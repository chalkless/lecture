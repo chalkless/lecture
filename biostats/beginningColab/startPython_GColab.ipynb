{
  "nbformat": 4,
  "nbformat_minor": 0,
  "metadata": {
    "colab": {
      "name": "GoogleColabs_start.ipynb",
      "provenance": [],
      "collapsed_sections": []
    },
    "kernelspec": {
      "name": "python3",
      "display_name": "Python 3"
    },
    "language_info": {
      "name": "python"
    }
  },
  "cells": [
    {
      "cell_type": "markdown",
      "source": [
        "# はじめてPythonで統計解析をしてみる（Google Colab編）\n",
        "これはGoogle Colaboratory (Google Colab)　を利用してPythonに触れて統計解析をしてみる、という文章です。 Google Colabでは、文章中にPythonのコード（やこのようなドキュメント（文章））を埋め込んで、なおかつ実行できます。このようなコードやドキュメントは自分で自由に書き換えられるので、いろいろ試してみましょう。"
      ],
      "metadata": {
        "id": "n7hWb1azQP7N"
      }
    },
    {
      "cell_type": "markdown",
      "source": [
        "## Google Colaboratoryでの利用について\n",
        "このファイルを自分のGoogle Colaboratory （Google Colab） で開くと編集なりができるようになるはずです。 （ここに書いてもしかたない気もしますが）タイトル下のファイル > ノートブックをアップロード でこのファイルを指定してアップロードして開きます。 アップロードしたこのファイルは自分のGoogle Driveに保存されます。 右上にGoogleアカウントのアイコンが出ているはずです。（私も含めて）複数のGoogleアカウントを持っていると、えてして別のアカウントでGoogle Colabが開かれたりしていまいますので、保存されるファイルもそのアカウントのGoogle Driveに保存されます。ファイルを行方不明にしないように。。。 左のフォルダーマークをクリックするとデータのアップロードができますが、それは実際に使うときにでも。。。"
      ],
      "metadata": {
        "id": "cJYppu9OQ8Qa"
      }
    },
    {
      "cell_type": "markdown",
      "source": [
        "とりあえず試しにPythonのコードを実行してみましょう。\n",
        "コード（＝呪文）の左側にある右向き三角ボタンをクリックしてみましょう。"
      ],
      "metadata": {
        "id": "gbcJ6kQ2RUMt"
      }
    },
    {
      "cell_type": "code",
      "source": [
        "print(\"Hello world!\")"
      ],
      "metadata": {
        "id": "PVzJ7BpPRaQ8"
      },
      "execution_count": null,
      "outputs": []
    },
    {
      "cell_type": "markdown",
      "source": [
        "プログラミング言語に触れる時は、Hello world! と最初に表示させるのが慣わしになっています。\n",
        "Hello world!と表示されましたか。\n",
        "おめでとうございます。初めてのPythonコードを実行しました（って、もしかしたら自分で前に試した人もいるかもしれませんが）"
      ],
      "metadata": {
        "id": "bFvylUoTReQe"
      }
    },
    {
      "cell_type": "markdown",
      "source": [
        "pythonで計算もできます。"
      ],
      "metadata": {
        "id": "mxETUISxYado"
      }
    },
    {
      "cell_type": "code",
      "source": [
        "print(1+1)"
      ],
      "metadata": {
        "colab": {
          "base_uri": "https://localhost:8080/"
        },
        "id": "08w2GAqwYffl",
        "outputId": "0cc77527-0008-4e95-a04f-03189159594e"
      },
      "execution_count": 15,
      "outputs": [
        {
          "output_type": "stream",
          "name": "stdout",
          "text": [
            "2\n"
          ]
        }
      ]
    },
    {
      "cell_type": "markdown",
      "source": [
        "Excelのときに数値と文字列という話をしました。\n",
        "\n",
        "(  )の内側に \"  \" があったりなかったりする違いに注意です。\n",
        "\n",
        "あるときは文字列扱い、ないときは数値扱いです。今回は計算したいのでダブルクォーテーションでは囲っていません。"
      ],
      "metadata": {
        "id": "thOrCxZgYjW5"
      }
    },
    {
      "cell_type": "code",
      "source": [
        "#　参考：\"　 \"で囲うと文字列扱いになるので計算されない\n",
        "print(\"1+1\")"
      ],
      "metadata": {
        "id": "ef40agVCYzgY"
      },
      "execution_count": null,
      "outputs": []
    },
    {
      "cell_type": "markdown",
      "source": [
        "変数に数値を代入して計算することもできます。（実行させたのちに、ダブルクリックすると編集できるので、自分で数値を変えてみるなどして計算し直してみるとよいでしょう）"
      ],
      "metadata": {
        "id": "CbmfGIMfZW0B"
      }
    },
    {
      "cell_type": "code",
      "source": [
        "x=1\n",
        "y=2\n",
        "z=x+y\n",
        "print(z)"
      ],
      "metadata": {
        "id": "hqNxPwpLZg_X"
      },
      "execution_count": null,
      "outputs": []
    },
    {
      "cell_type": "markdown",
      "source": [
        "代入には文字列も行えます。\" \" で囲うことに注意（' ' の場合もあります）。 文字列を代入というとあまりイメージがわかないかもしれませんが、ファイル名を入れておいてファイルを開いたり、データのラベルを入れたりします。"
      ],
      "metadata": {
        "id": "ToyyPYvkZy7k"
      }
    },
    {
      "cell_type": "code",
      "source": [
        "file=\"data.csv\"\n",
        "print(file)"
      ],
      "metadata": {
        "id": "Ts28pfIVZ4ic"
      },
      "execution_count": null,
      "outputs": []
    },
    {
      "cell_type": "markdown",
      "source": [
        "## グラフを描いてみる\n",
        "Google Colab上でPythonを用いてグラフを描いてみます。"
      ],
      "metadata": {
        "id": "zTsrZ3HnbYze"
      }
    },
    {
      "cell_type": "code",
      "source": [
        "#　おまじない\n",
        "%matplotlib inline\n",
        "from matplotlib import pyplot\n",
        "import numpy"
      ],
      "metadata": {
        "id": "-8b82Vc9bjel"
      },
      "execution_count": 8,
      "outputs": []
    },
    {
      "cell_type": "markdown",
      "source": [
        "平均が0、標準偏差（データのばらつき）が1になるように、数を1000個ランダムに（プログラムに）生成してもらいます。"
      ],
      "metadata": {
        "id": "oBt3yoGIbuDv"
      }
    },
    {
      "cell_type": "code",
      "source": [
        "rdm = numpy.random.normal(\n",
        "    loc   = 0,         # 平均\n",
        "    scale = 1,         # 標準偏差\n",
        "    size  = 1000  # 出力配列のサイズ(タプルも可)\n",
        ")"
      ],
      "metadata": {
        "id": "1dPnJzJHcF7i"
      },
      "execution_count": 18,
      "outputs": []
    },
    {
      "cell_type": "markdown",
      "source": [
        "試しに最初の１０個を出力してみます。（本当はprint()で囲むのですが、今回は統計パッケージを読み込んでいるので変数だけで出力されています）"
      ],
      "metadata": {
        "id": "CDkOA14KfLC0"
      }
    },
    {
      "cell_type": "code",
      "source": [
        "rdm[0:10]"
      ],
      "metadata": {
        "colab": {
          "base_uri": "https://localhost:8080/"
        },
        "id": "j9HIcSVqcgQb",
        "outputId": "5a869b12-7ab9-44d6-d9e5-c0e99a633042"
      },
      "execution_count": 19,
      "outputs": [
        {
          "output_type": "execute_result",
          "data": {
            "text/plain": [
              "array([-0.72152034, -0.87714481,  0.3502657 , -0.01534793,  2.28839656,\n",
              "       -0.19095879, -0.61111163,  1.11975337,  1.03896224,  0.52951497])"
            ]
          },
          "metadata": {},
          "execution_count": 19
        }
      ]
    },
    {
      "cell_type": "markdown",
      "source": [
        "rdmの生成をやり直す度に、最初の１０個の値も変わります。"
      ],
      "metadata": {
        "id": "89U50rv3fbew"
      }
    },
    {
      "cell_type": "markdown",
      "source": [
        "実際に平均が0になっているか、確認してみましょう。"
      ],
      "metadata": {
        "id": "FQA_-YsNftZL"
      }
    },
    {
      "cell_type": "code",
      "source": [
        "numpy.average(rdm)"
      ],
      "metadata": {
        "colab": {
          "base_uri": "https://localhost:8080/"
        },
        "id": "8Vb63F4DgUu5",
        "outputId": "3a78ab8c-d9b4-45a7-a6bc-f94398b12091"
      },
      "execution_count": 20,
      "outputs": [
        {
          "output_type": "execute_result",
          "data": {
            "text/plain": [
              "0.006466827738939501"
            ]
          },
          "metadata": {},
          "execution_count": 20
        }
      ]
    },
    {
      "cell_type": "markdown",
      "source": [
        "すこーし0からずれているのはご愛嬌でしょうか。。。"
      ],
      "metadata": {
        "id": "4a1ixZjYgbJA"
      }
    },
    {
      "cell_type": "markdown",
      "source": [
        "つづいて、数字の実際の分布をグラフにしてみます。"
      ],
      "metadata": {
        "id": "x2uWuujfgrXq"
      }
    },
    {
      "cell_type": "code",
      "source": [
        "pyplot.hist(rdm)"
      ],
      "metadata": {
        "colab": {
          "base_uri": "https://localhost:8080/",
          "height": 357
        },
        "id": "q3RoXgIygxEk",
        "outputId": "4f39b722-1a99-4a61-f69b-2cc4d34d7a0e"
      },
      "execution_count": 22,
      "outputs": [
        {
          "output_type": "execute_result",
          "data": {
            "text/plain": [
              "(array([  6.,  15.,  87., 160., 233., 240., 156.,  66.,  27.,  10.]),\n",
              " array([-3.15232628, -2.52335482, -1.89438337, -1.26541191, -0.63644045,\n",
              "        -0.00746899,  0.62150246,  1.25047392,  1.87944538,  2.50841684,\n",
              "         3.13738829]),\n",
              " <a list of 10 Patch objects>)"
            ]
          },
          "metadata": {},
          "execution_count": 22
        },
        {
          "output_type": "display_data",
          "data": {
            "text/plain": [
              "<Figure size 432x288 with 1 Axes>"
            ],
            "image/png": "[encoded data removed]"
          },
          "metadata": {
            "needs_background": "light"
          }
        }
      ]
    },
    {
      "cell_type": "markdown",
      "source": [
        "このようなどの値の範囲にデータが何件あるか、というグラフはヒストグラムと呼びます。"
      ],
      "metadata": {
        "id": "ZN0ZThGLhEjR"
      }
    },
    {
      "cell_type": "markdown",
      "source": [
        "もう少しグラフの幅を細かくしたりすることもできます。今回はbinsの値を変えて本数を増やしています。\n",
        "他にグラフの色を変えたりすることもできます。"
      ],
      "metadata": {
        "id": "ocU_HIZXhLIs"
      }
    },
    {
      "cell_type": "code",
      "source": [
        "pyplot.hist(rdm, bins=20)"
      ],
      "metadata": {
        "colab": {
          "base_uri": "https://localhost:8080/",
          "height": 408
        },
        "id": "HeH_j6YShdcs",
        "outputId": "33dc13d1-a902-4a6f-d2db-826faf330794"
      },
      "execution_count": 23,
      "outputs": [
        {
          "output_type": "execute_result",
          "data": {
            "text/plain": [
              "(array([  2.,   4.,   4.,  11.,  25.,  62.,  64.,  96., 108., 125., 120.,\n",
              "        120.,  87.,  69.,  37.,  29.,  18.,   9.,   4.,   6.]),\n",
              " array([-3.15232628, -2.83784055, -2.52335482, -2.20886909, -1.89438337,\n",
              "        -1.57989764, -1.26541191, -0.95092618, -0.63644045, -0.32195472,\n",
              "        -0.00746899,  0.30701674,  0.62150246,  0.93598819,  1.25047392,\n",
              "         1.56495965,  1.87944538,  2.19393111,  2.50841684,  2.82290257,\n",
              "         3.13738829]),\n",
              " <a list of 20 Patch objects>)"
            ]
          },
          "metadata": {},
          "execution_count": 23
        },
        {
          "output_type": "display_data",
          "data": {
            "text/plain": [
              "<Figure size 432x288 with 1 Axes>"
            ],
            "image/png": "[encoded data removed]"
          },
          "metadata": {
            "needs_background": "light"
          }
        }
      ]
    }
  ]
}
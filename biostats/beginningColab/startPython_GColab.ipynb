{
  "nbformat": 4,
  "nbformat_minor": 0,
  "metadata": {
    "colab": {
      "name": "GoogleColabs_start.ipynb",
      "provenance": [],
      "collapsed_sections": []
    },
    "kernelspec": {
      "name": "python3",
      "display_name": "Python 3"
    },
    "language_info": {
      "name": "python"
    }
  },
  "cells": [
    {
      "cell_type": "markdown",
      "source": [
        "# はじめてPythonで統計解析をしてみる（Google Colab編）\n",
        "これはGoogle Colaboratory (Google Colab)　を利用してPythonに触れて統計解析をしてみる、という文章です。 Google Colabでは、文章中にPythonのコード（やこのようなドキュメント（文章））を埋め込んで、なおかつ実行できます。このようなコードやドキュメントは自分で自由に書き換えられるので、いろいろ試してみましょう。"
      ],
      "metadata": {
        "id": "n7hWb1azQP7N"
      }
    },
    {
      "cell_type": "markdown",
      "source": [
        "## Google Colaboratoryでの利用について\n",
        "このファイルを自分のGoogle Colaboratory （Google Colab） で開くと編集なりができるようになるはずです。 （ここに書いてもしかたない気もしますが）タイトル下のファイル > ノートブックをアップロード でこのファイルを指定してアップロードして開きます。 アップロードしたこのファイルは自分のGoogle Driveに保存されます。 右上にGoogleアカウントのアイコンが出ているはずです。（私も含めて）複数のGoogleアカウントを持っていると、えてして別のアカウントでGoogle Colabが開かれたりしていまいますので、保存されるファイルもそのアカウントのGoogle Driveに保存されます。ファイルを行方不明にしないように。。。 左のフォルダーマークをクリックするとデータのアップロードができますが、それは実際に使うときにでも。。。"
      ],
      "metadata": {
        "id": "cJYppu9OQ8Qa"
      }
    },
    {
      "cell_type": "markdown",
      "source": [
        "とりあえず試しにPythonのコードを実行してみましょう。\n",
        "コード（＝呪文）の左側にある右向き三角ボタンをクリックしてみましょう。"
      ],
      "metadata": {
        "id": "gbcJ6kQ2RUMt"
      }
    },
    {
      "cell_type": "code",
      "source": [
        "print(\"Hello world!\")"
      ],
      "metadata": {
        "id": "PVzJ7BpPRaQ8"
      },
      "execution_count": null,
      "outputs": []
    },
    {
      "cell_type": "markdown",
      "source": [
        "プログラミング言語に触れる時は、Hello world! と最初に表示させるのが慣わしになっています。\n",
        "Hello world!と表示されましたか。\n",
        "おめでとうございます。初めてのPythonコードを実行しました（って、もしかしたら自分で前に試した人もいるかもしれませんが）"
      ],
      "metadata": {
        "id": "bFvylUoTReQe"
      }
    },
    {
      "cell_type": "markdown",
      "source": [
        "pythonで計算もできます。"
      ],
      "metadata": {
        "id": "mxETUISxYado"
      }
    },
    {
      "cell_type": "code",
      "source": [
        "print(1+1)"
      ],
      "metadata": {
        "id": "08w2GAqwYffl"
      },
      "execution_count": null,
      "outputs": []
    },
    {
      "cell_type": "markdown",
      "source": [
        "Excelのときに数値と文字列という話をしました。\n",
        "\n",
        "(  )の内側に \"  \" があったりなかったりする違いに注意です。\n",
        "\n",
        "あるときは文字列扱い、ないときは数値扱いです。今回は計算したいのでダブルクォーテーションでは囲っていません。"
      ],
      "metadata": {
        "id": "thOrCxZgYjW5"
      }
    },
    {
      "cell_type": "code",
      "source": [
        "#　参考：\"　 \"で囲うと文字列扱いになるので計算されない\n",
        "print(\"1+1\")"
      ],
      "metadata": {
        "id": "ef40agVCYzgY"
      },
      "execution_count": null,
      "outputs": []
    },
    {
      "cell_type": "markdown",
      "source": [
        "変数に数値を代入して計算することもできます。（実行させたのちに、ダブルクリックすると編集できるので、自分で数値を変えてみるなどして計算し直してみるとよいでしょう）"
      ],
      "metadata": {
        "id": "CbmfGIMfZW0B"
      }
    },
    {
      "cell_type": "code",
      "source": [
        "x=1\n",
        "y=2\n",
        "z=x+y\n",
        "print(z)"
      ],
      "metadata": {
        "id": "hqNxPwpLZg_X"
      },
      "execution_count": null,
      "outputs": []
    },
    {
      "cell_type": "markdown",
      "source": [
        "代入には文字列も行えます。\" \" で囲うことに注意（' ' の場合もあります）。 文字列を代入というとあまりイメージがわかないかもしれませんが、ファイル名を入れておいてファイルを開いたり、データのラベルを入れたりします。"
      ],
      "metadata": {
        "id": "ToyyPYvkZy7k"
      }
    },
    {
      "cell_type": "code",
      "source": [
        "file=\"data.csv\"\n",
        "print(file)"
      ],
      "metadata": {
        "id": "Ts28pfIVZ4ic"
      },
      "execution_count": null,
      "outputs": []
    },
    {
      "cell_type": "markdown",
      "source": [
        "## グラフを描いてみる\n",
        "Google Colab上でPythonを用いてグラフを描いてみます。"
      ],
      "metadata": {
        "id": "zTsrZ3HnbYze"
      }
    },
    {
      "cell_type": "code",
      "source": [
        "#　おまじない\n",
        "%matplotlib inline\n",
        "from matplotlib import pyplot\n",
        "import numpy"
      ],
      "metadata": {
        "id": "-8b82Vc9bjel"
      },
      "execution_count": null,
      "outputs": []
    },
    {
      "cell_type": "markdown",
      "source": [
        "平均が0、標準偏差（データのばらつき）が1になるように、数を1000個ランダムに（プログラムに）生成してもらいます。"
      ],
      "metadata": {
        "id": "oBt3yoGIbuDv"
      }
    },
    {
      "cell_type": "code",
      "source": [
        "rdm = numpy.random.normal(\n",
        "    loc   = 0,         # 平均\n",
        "    scale = 1,         # 標準偏差\n",
        "    size  = 1000  # 出力配列のサイズ(タプルも可)\n",
        ")"
      ],
      "metadata": {
        "id": "1dPnJzJHcF7i"
      },
      "execution_count": null,
      "outputs": []
    },
    {
      "cell_type": "markdown",
      "source": [
        "試しに最初の１０個を出力してみます。（本当はprint()で囲むのですが、今回は統計パッケージを読み込んでいるので変数だけで出力されています）"
      ],
      "metadata": {
        "id": "CDkOA14KfLC0"
      }
    },
    {
      "cell_type": "code",
      "source": [
        "rdm[0:10]"
      ],
      "metadata": {
        "id": "j9HIcSVqcgQb"
      },
      "execution_count": null,
      "outputs": []
    },
    {
      "cell_type": "markdown",
      "source": [
        "rdmの生成をやり直す度に、最初の１０個の値も変わります。"
      ],
      "metadata": {
        "id": "89U50rv3fbew"
      }
    },
    {
      "cell_type": "markdown",
      "source": [
        "実際に平均が0になっているか、確認してみましょう。"
      ],
      "metadata": {
        "id": "FQA_-YsNftZL"
      }
    },
    {
      "cell_type": "code",
      "source": [
        "numpy.average(rdm)"
      ],
      "metadata": {
        "id": "8Vb63F4DgUu5"
      },
      "execution_count": null,
      "outputs": []
    },
    {
      "cell_type": "markdown",
      "source": [
        "すこーし0からずれているのはご愛嬌でしょうか。。。"
      ],
      "metadata": {
        "id": "4a1ixZjYgbJA"
      }
    },
    {
      "cell_type": "markdown",
      "source": [
        "つづいて、数字の実際の分布をグラフにしてみます。"
      ],
      "metadata": {
        "id": "x2uWuujfgrXq"
      }
    },
    {
      "cell_type": "code",
      "source": [
        "pyplot.hist(rdm)"
      ],
      "metadata": {
        "id": "q3RoXgIygxEk"
      },
      "execution_count": null,
      "outputs": []
    },
    {
      "cell_type": "markdown",
      "source": [
        "このようなどの値の範囲にデータが何件あるか、というグラフはヒストグラムと呼びます。"
      ],
      "metadata": {
        "id": "ZN0ZThGLhEjR"
      }
    },
    {
      "cell_type": "markdown",
      "source": [
        "もう少しグラフの幅を細かくしたりすることもできます。今回はbinsの値を変えて本数を増やしています。\n",
        "他にグラフの色を変えたりすることもできます。"
      ],
      "metadata": {
        "id": "ocU_HIZXhLIs"
      }
    },
    {
      "cell_type": "code",
      "source": [
        "pyplot.hist(rdm, bins=20)"
      ],
      "metadata": {
        "id": "HeH_j6YShdcs"
      },
      "execution_count": null,
      "outputs": []
    }
  ]
}
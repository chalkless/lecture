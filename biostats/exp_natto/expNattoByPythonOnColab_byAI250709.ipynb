{
  "nbformat": 4,
  "nbformat_minor": 0,
  "metadata": {
    "colab": {
      "provenance": []
    },
    "kernelspec": {
      "name": "python3",
      "display_name": "Python 3"
    },
    "language_info": {
      "name": "python"
    }
  },
  "cells": [
    {
      "cell_type": "code",
      "execution_count": 3,
      "metadata": {
        "colab": {
          "base_uri": "https://localhost:8080/"
        },
        "id": "jF7a2q_4K1T2",
        "outputId": "4d5ac009-3a6e-4b71-9edb-a5e1ebb59ed9"
      },
      "outputs": [
        {
          "output_type": "stream",
          "name": "stdout",
          "text": [
            "遺伝子発現が豆の表面で顕著に増加した遺伝子:\n",
            "     Feature_ID                             Product  liquid_mean    bean_mean\n",
            "237     gene297             galactarate dehydratase    16.036584   575.809417\n",
            "270     gene336    luciferase family oxidoreductase    10.519541   844.793749\n",
            "411     gene482  ribosomal N-acetyltransferase YdaF     3.643010   197.754798\n",
            "649     gene741                 amino acid permease    50.173308   820.668833\n",
            "650     gene742                hypothetical protein    40.708137   715.718334\n",
            "...         ...                                 ...          ...          ...\n",
            "4241   gene4565                                   .    12.634884  1287.040795\n",
            "4242   gene4566                                   .    10.535209   752.930879\n",
            "4243   gene4567                                   .     5.826911   318.671787\n",
            "4244   gene4568                                   .    16.583285   502.710045\n",
            "4245   gene4569                                   .    13.291242   376.804526\n",
            "\n",
            "[112 rows x 4 columns]\n",
            "\n",
            "ピックアップされた遺伝子の生物学的な機能:\n",
            "     Feature_ID                             Product\n",
            "237     gene297             galactarate dehydratase\n",
            "270     gene336    luciferase family oxidoreductase\n",
            "411     gene482  ribosomal N-acetyltransferase YdaF\n",
            "649     gene741                 amino acid permease\n",
            "650     gene742                hypothetical protein\n",
            "...         ...                                 ...\n",
            "4241   gene4565                                   .\n",
            "4242   gene4566                                   .\n",
            "4243   gene4567                                   .\n",
            "4244   gene4568                                   .\n",
            "4245   gene4569                                   .\n",
            "\n",
            "[112 rows x 2 columns]\n"
          ]
        }
      ],
      "source": [
        "# prompt: アップロードしたBsubtilis_exp.for_lec.0613.txtはタブ区切りファイルです。このファイルには枯草菌（Bacillus subtilis var. natto）の遺伝子発現データが記載されています。このファイルは9列から構成されており、Feature_IDは独自ID、Protein_IDはUniProtのID、Productは遺伝子名、liquid_1・liquid_2・bean_1・bean_2・agar_1・agar_2は遺伝子発現量が記載されています。liquid_1とliquid_2は液体の条件で、bean_1とbean_2は豆の表面の条件で各2回実験した遺伝子発現データです。今回、液体条件と豆の表面の条件で遺伝子発現量を比較し、豆の表面で遺伝子発現が顕著に増加したものをピックアップした後、その遺伝子の生物学的な機能を表示するためのコードを必要とします。\n",
        "\n",
        "import pandas as pd\n",
        "\n",
        "# ファイルの読み込み\n",
        "df = pd.read_csv('Bsubtilis_exp.for_lec.0613.txt', sep='\\t')\n",
        "\n",
        "# liquid条件とbean条件の平均発現量を計算\n",
        "df['liquid_mean'] = df[['liquid_1', 'liquid_2']].mean(axis=1)\n",
        "df['bean_mean'] = df[['bean_1', 'bean_2']].mean(axis=1)\n",
        "\n",
        "# bean_meanがliquid_meanより顕著に増加した遺伝子を抽出（例として2倍以上を条件とする）\n",
        "# ゼロ除算を防ぐために、liquid_meanに小さい値を加えるか、条件を調整する必要があります。\n",
        "# ここでは、bean_meanがliquid_meanの2倍以上かつliquid_meanが0でないものを抽出します。\n",
        "# → 自分で >=2 としていた部分を >= 16 に変更した\n",
        "significant_increase_df = df[(df['bean_mean'] >= 16 * df['liquid_mean']) & (df['liquid_mean'] > 0)]\n",
        "\n",
        "# 結果の表示（Feature_ID, Product, liquid_mean, bean_meanを表示）\n",
        "print(\"遺伝子発現が豆の表面で顕著に増加した遺伝子:\")\n",
        "print(significant_increase_df[['Feature_ID', 'Product', 'liquid_mean', 'bean_mean']])\n",
        "\n",
        "# Protein_IDを用いて生物学的な機能を取得する（ここではProduct列を利用）\n",
        "# Protein_ID（UniProt ID）を使って外部データベースから情報を取得するのが一般的ですが、\n",
        "# この例ではProvidedのProduct列を機能として利用します。\n",
        "print(\"\\nピックアップされた遺伝子の生物学的な機能:\")\n",
        "print(significant_increase_df[['Feature_ID', 'Product']])\n",
        "\n",
        "# Note: Protein_ID (UniProt ID) を使用して、UniProtなどのデータベースから\n",
        "# より詳細な機能情報を取得するには、追加のコード（API呼び出しやデータベース検索など）が必要です。\n",
        "# 例えば、UniProtのREST APIを利用する方法などがあります。\n",
        "# 例: https://www.uniprot.org/help/rest_api\n"
      ]
    }
  ]
}
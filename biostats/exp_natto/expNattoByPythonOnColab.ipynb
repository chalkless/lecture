{
  "nbformat": 4,
  "nbformat_minor": 0,
  "metadata": {
    "colab": {
      "name": "expNattoByPythonOnColab",
      "provenance": [],
      "collapsed_sections": [
        "MZEdrOs_V1ps",
        "gP_ND4hjWoOr"
      ]
    },
    "kernelspec": {
      "name": "python3",
      "display_name": "Python 3"
    },
    "language_info": {
      "name": "python"
    }
  },
  "cells": [
    {
      "cell_type": "markdown",
      "source": [
        "# Python（on Google Colab）で遺伝子発現解析（納豆菌編）\n",
        "遺伝子発現解析をGoogle Colagoratory（通称；Google Colab）上のPythonで試しにやってみた。\n",
        "全部の遺伝子で遺伝子発現を調べられるトランスクリプトーム（transcriptome）のデータについて、培養条件によって発現に差のある遺伝子をピックアップし、それらが生物学的にどういう機能があるかについて解釈を行っている（あくまで実際の統計を体験してみるのが目的なので、一部 簡略化しているところがある）。（参考までに、同じことをExcelでやった版や、今回扱う納豆菌でなくてシロイヌナズナでやったバージョンもあります）\n"
      ],
      "metadata": {
        "id": "c7U1t-lQSTnr"
      }
    },
    {
      "cell_type": "markdown",
      "source": [
        "## Google Colabの利用について\n",
        "このファイルを自分のGoogle Colaboratory（Google Colab）で開くと編集なりができるようになるはずです。作ったファイルは自分のGoogle Driveに保存されます。\n",
        "右上にGoogleアカウントのアイコンが出ているはずですが、（私も含めて）複数のGoogle アカウントを持っていると、えてして別のアカウントでGoogle Colabが開いてしまうこともあります。その場合は保存されるファイルもそのアカウントのGoogle Driveに保存されるので、あらかじめ右上の自分のアイコンをクリックして適切なアカウントにしてから作業を開始しましょう。ファイルを行方不明にしないように。。。"
      ],
      "metadata": {
        "id": "MZEdrOs_V1ps"
      }
    },
    {
      "cell_type": "markdown",
      "source": [
        "## 背景\n",
        "### 今回 利用するデータ\n",
        "- GSE109523 ：Transcriptome analysis of Bacillus subtilis NBRC 16449 grown on surface of boiled soybeans under the similar condition to production of Japanese traditional soybean-fermented food \"natto\" https://www.ncbi.nlm.nih.gov/geo/query/acc.cgi?acc=GSE109523\n",
        "- 日本語訳：Bacillus subtilis（枯草菌・こそうきん）NBRC 16449株における日本の伝統的な大豆発酵食品 納豆の生産と同条件下における茹でた大豆の表面での成長時のトランスクリプトーム（全遺伝子発現）解析\n",
        "- 今回はこれを加工したデータを用いる ( https://raw.githubusercontent.com/chalkless/lecture/master/biostats/exp_natto/Bsubtilis_exp.for_lec.0613.txt )。あらかじめダウンロードしておく。（右クリックして「名前をつけて保存」）"
      ],
      "metadata": {
        "id": "ud5pxRriV6_q"
      }
    },
    {
      "cell_type": "markdown",
      "source": [
        "### 生物学的背景\n",
        "- あとで書く"
      ],
      "metadata": {
        "id": "gP_ND4hjWoOr"
      }
    },
    {
      "cell_type": "markdown",
      "source": [
        "### [参考][補足] GEOからの遺伝子発現データの取得\n",
        "- 今回は、すぐにPythonやExcelで開けるように加工済のデータになっているが、元々の配布されているデータは別形式（＋実験データだけでなく実験条件の情報付き）なのでそのままでは使えない。\n",
        "- 後で書く。Excelの場合にしっかり書いたのでそちらを参考に"
      ],
      "metadata": {
        "id": "r13FK9dLXiWa"
      }
    },
    {
      "cell_type": "markdown",
      "source": [
        "## 遺伝子発現データの統計的な解析\n",
        "### データをアップロードする\n",
        "- いきなりつまずく人が多発する鬼門ポイントです。。。\n",
        "- 画面左端のフォルダーマーク（📁 ←こんな感じの）をクリックする\n",
        "- と、画面左側にファイルのリストが現れる。広くなったファイルのリストエリアにデータのファイルをドラッグするとGoogle Colabから見える形でファイルがアップされる\n",
        "　  - 「注: アップロードしたファイルはランタイムのリサイクル時に削除されます。」とメッセージが出るが気にしない。これの意味は、ブラウザのウインドウを閉じてしまったりすると覚えていた（リストとして並んでいた）データファイルが消すからごめんね、ということ。\n",
        "    - データのファイルが消えてしまったら再度アップすればよい。\n",
        "    \n",
        "\n"
      ],
      "metadata": {
        "id": "7_iKuPQ_c0ll"
      }
    },
    {
      "cell_type": "markdown",
      "source": [
        "### データを読み込む"
      ],
      "metadata": {
        "id": "j1-6qDMmtLQa"
      }
    },
    {
      "cell_type": "code",
      "source": [
        "import pandas as pd\n",
        "df = pd.read_csv('Bsubtilis_exp.for_lec.0613.txt', sep='\\t', index_col=0)\n",
        "df.head()"
      ],
      "metadata": {
        "id": "FeN_NKeRsJVH",
        "colab": {
          "base_uri": "https://localhost:8080/",
          "height": 368
        },
        "outputId": "c385db8f-b5dd-4c0e-b052-b9cf8d2ba59e"
      },
      "execution_count": 3,
      "outputs": [
        {
          "output_type": "execute_result",
          "data": {
            "text/plain": [
              "           Protein_ID                                         Product  \\\n",
              "Feature_ID                                                              \n",
              "gene0          P05648  chromosomal replication initiator protein DnaA   \n",
              "gene1          P05649                 DNA polymerase III subunit beta   \n",
              "gene2          P05650                            hypothetical protein   \n",
              "gene3          P05651         DNA replication and repair protein RecF   \n",
              "gene4          P37525                DUF370 domain-containing protein   \n",
              "\n",
              "               liquid_1    liquid_2      bean_1      bean_2      agar_1  \\\n",
              "Feature_ID                                                                \n",
              "gene0        834.102799  576.594721  312.945767  295.518477  266.386503   \n",
              "gene1       1055.409089  639.465591  323.554225  258.584583  242.993284   \n",
              "gene2        183.757418  366.561974  166.054752  120.104462  169.660218   \n",
              "gene3        773.920434  789.808230  429.268016  442.858468  462.013280   \n",
              "gene4        223.471368  198.102324  122.921247   79.499125  128.286371   \n",
              "\n",
              "                agar_2  \n",
              "Feature_ID              \n",
              "gene0       403.542355  \n",
              "gene1       489.855972  \n",
              "gene2       169.440308  \n",
              "gene3       517.829470  \n",
              "gene4       114.442001  "
            ],
            "text/html": [
              "\n",
              "  <div id=\"df-74f65199-8bb8-4dc4-843d-4b52c1c39ad0\">\n",
              "    <div class=\"colab-df-container\">\n",
              "      <div>\n",
              "<style scoped>\n",
              "    .dataframe tbody tr th:only-of-type {\n",
              "        vertical-align: middle;\n",
              "    }\n",
              "\n",
              "    .dataframe tbody tr th {\n",
              "        vertical-align: top;\n",
              "    }\n",
              "\n",
              "    .dataframe thead th {\n",
              "        text-align: right;\n",
              "    }\n",
              "</style>\n",
              "<table border=\"1\" class=\"dataframe\">\n",
              "  <thead>\n",
              "    <tr style=\"text-align: right;\">\n",
              "      <th></th>\n",
              "      <th>Protein_ID</th>\n",
              "      <th>Product</th>\n",
              "      <th>liquid_1</th>\n",
              "      <th>liquid_2</th>\n",
              "      <th>bean_1</th>\n",
              "      <th>bean_2</th>\n",
              "      <th>agar_1</th>\n",
              "      <th>agar_2</th>\n",
              "    </tr>\n",
              "    <tr>\n",
              "      <th>Feature_ID</th>\n",
              "      <th></th>\n",
              "      <th></th>\n",
              "      <th></th>\n",
              "      <th></th>\n",
              "      <th></th>\n",
              "      <th></th>\n",
              "      <th></th>\n",
              "      <th></th>\n",
              "    </tr>\n",
              "  </thead>\n",
              "  <tbody>\n",
              "    <tr>\n",
              "      <th>gene0</th>\n",
              "      <td>P05648</td>\n",
              "      <td>chromosomal replication initiator protein DnaA</td>\n",
              "      <td>834.102799</td>\n",
              "      <td>576.594721</td>\n",
              "      <td>312.945767</td>\n",
              "      <td>295.518477</td>\n",
              "      <td>266.386503</td>\n",
              "      <td>403.542355</td>\n",
              "    </tr>\n",
              "    <tr>\n",
              "      <th>gene1</th>\n",
              "      <td>P05649</td>\n",
              "      <td>DNA polymerase III subunit beta</td>\n",
              "      <td>1055.409089</td>\n",
              "      <td>639.465591</td>\n",
              "      <td>323.554225</td>\n",
              "      <td>258.584583</td>\n",
              "      <td>242.993284</td>\n",
              "      <td>489.855972</td>\n",
              "    </tr>\n",
              "    <tr>\n",
              "      <th>gene2</th>\n",
              "      <td>P05650</td>\n",
              "      <td>hypothetical protein</td>\n",
              "      <td>183.757418</td>\n",
              "      <td>366.561974</td>\n",
              "      <td>166.054752</td>\n",
              "      <td>120.104462</td>\n",
              "      <td>169.660218</td>\n",
              "      <td>169.440308</td>\n",
              "    </tr>\n",
              "    <tr>\n",
              "      <th>gene3</th>\n",
              "      <td>P05651</td>\n",
              "      <td>DNA replication and repair protein RecF</td>\n",
              "      <td>773.920434</td>\n",
              "      <td>789.808230</td>\n",
              "      <td>429.268016</td>\n",
              "      <td>442.858468</td>\n",
              "      <td>462.013280</td>\n",
              "      <td>517.829470</td>\n",
              "    </tr>\n",
              "    <tr>\n",
              "      <th>gene4</th>\n",
              "      <td>P37525</td>\n",
              "      <td>DUF370 domain-containing protein</td>\n",
              "      <td>223.471368</td>\n",
              "      <td>198.102324</td>\n",
              "      <td>122.921247</td>\n",
              "      <td>79.499125</td>\n",
              "      <td>128.286371</td>\n",
              "      <td>114.442001</td>\n",
              "    </tr>\n",
              "  </tbody>\n",
              "</table>\n",
              "</div>\n",
              "      <button class=\"colab-df-convert\" onclick=\"convertToInteractive('df-74f65199-8bb8-4dc4-843d-4b52c1c39ad0')\"\n",
              "              title=\"Convert this dataframe to an interactive table.\"\n",
              "              style=\"display:none;\">\n",
              "        \n",
              "  <svg xmlns=\"http://www.w3.org/2000/svg\" height=\"24px\"viewBox=\"0 0 24 24\"\n",
              "       width=\"24px\">\n",
              "    <path d=\"M0 0h24v24H0V0z\" fill=\"none\"/>\n",
              "    <path d=\"M18.56 5.44l.94 2.06.94-2.06 2.06-.94-2.06-.94-.94-2.06-.94 2.06-2.06.94zm-11 1L8.5 8.5l.94-2.06 2.06-.94-2.06-.94L8.5 2.5l-.94 2.06-2.06.94zm10 10l.94 2.06.94-2.06 2.06-.94-2.06-.94-.94-2.06-.94 2.06-2.06.94z\"/><path d=\"M17.41 7.96l-1.37-1.37c-.4-.4-.92-.59-1.43-.59-.52 0-1.04.2-1.43.59L10.3 9.45l-7.72 7.72c-.78.78-.78 2.05 0 2.83L4 21.41c.39.39.9.59 1.41.59.51 0 1.02-.2 1.41-.59l7.78-7.78 2.81-2.81c.8-.78.8-2.07 0-2.86zM5.41 20L4 18.59l7.72-7.72 1.47 1.35L5.41 20z\"/>\n",
              "  </svg>\n",
              "      </button>\n",
              "      \n",
              "  <style>\n",
              "    .colab-df-container {\n",
              "      display:flex;\n",
              "      flex-wrap:wrap;\n",
              "      gap: 12px;\n",
              "    }\n",
              "\n",
              "    .colab-df-convert {\n",
              "      background-color: #E8F0FE;\n",
              "      border: none;\n",
              "      border-radius: 50%;\n",
              "      cursor: pointer;\n",
              "      display: none;\n",
              "      fill: #1967D2;\n",
              "      height: 32px;\n",
              "      padding: 0 0 0 0;\n",
              "      width: 32px;\n",
              "    }\n",
              "\n",
              "    .colab-df-convert:hover {\n",
              "      background-color: #E2EBFA;\n",
              "      box-shadow: 0px 1px 2px rgba(60, 64, 67, 0.3), 0px 1px 3px 1px rgba(60, 64, 67, 0.15);\n",
              "      fill: #174EA6;\n",
              "    }\n",
              "\n",
              "    [theme=dark] .colab-df-convert {\n",
              "      background-color: #3B4455;\n",
              "      fill: #D2E3FC;\n",
              "    }\n",
              "\n",
              "    [theme=dark] .colab-df-convert:hover {\n",
              "      background-color: #434B5C;\n",
              "      box-shadow: 0px 1px 3px 1px rgba(0, 0, 0, 0.15);\n",
              "      filter: drop-shadow(0px 1px 2px rgba(0, 0, 0, 0.3));\n",
              "      fill: #FFFFFF;\n",
              "    }\n",
              "  </style>\n",
              "\n",
              "      <script>\n",
              "        const buttonEl =\n",
              "          document.querySelector('#df-74f65199-8bb8-4dc4-843d-4b52c1c39ad0 button.colab-df-convert');\n",
              "        buttonEl.style.display =\n",
              "          google.colab.kernel.accessAllowed ? 'block' : 'none';\n",
              "\n",
              "        async function convertToInteractive(key) {\n",
              "          const element = document.querySelector('#df-74f65199-8bb8-4dc4-843d-4b52c1c39ad0');\n",
              "          const dataTable =\n",
              "            await google.colab.kernel.invokeFunction('convertToInteractive',\n",
              "                                                     [key], {});\n",
              "          if (!dataTable) return;\n",
              "\n",
              "          const docLinkHtml = 'Like what you see? Visit the ' +\n",
              "            '<a target=\"_blank\" href=https://colab.research.google.com/notebooks/data_table.ipynb>data table notebook</a>'\n",
              "            + ' to learn more about interactive tables.';\n",
              "          element.innerHTML = '';\n",
              "          dataTable['output_type'] = 'display_data';\n",
              "          await google.colab.output.renderOutput(dataTable, element);\n",
              "          const docLink = document.createElement('div');\n",
              "          docLink.innerHTML = docLinkHtml;\n",
              "          element.appendChild(docLink);\n",
              "        }\n",
              "      </script>\n",
              "    </div>\n",
              "  </div>\n",
              "  "
            ]
          },
          "metadata": {},
          "execution_count": 3
        }
      ]
    },
    {
      "cell_type": "markdown",
      "source": [
        "- `import pandas as pd`：統計用のライブラリpandasを呼んで、pdという名前で呼び出せるようにしています。早い話がおまじないです。（＝なんかよくわからんけど書いとけ）\n",
        "- `df = pd.read_csv(...)`：pdとして呼び出したpandasのread_csvメソッドでファイルを読み込んでデータフレームdfに格納した。（＝呪文をたくさん知っている大魔神pdを呼び出して、read_csvという呪文でファイルを読み込んで、colab上にdfという表を作ってもらった）\n",
        "- `df.head()`：データフレームdfの最初5行を表示（表dfに最初の5行を表示する呪文headをかけた → ら、5行分が表示された）\n",
        "- [補足] `pd.read_csv(...)`の...について\n",
        "  - `sep='\\t'`：区切り文字（*sep*arator）はタブ（便宜的に\\tで表す）。別の例で、カンマ区切り（csv形式）なら\\tを , にする。\n",
        "  - `index_col=0`：今回の場合は最初の列を各行のラベル（=行の名前）として扱っているので、これを追記している。indexは目次。colは列（column）のこと。えてしてプログラミングでは数字は0から数え始めるので、1でなく0を値として与えている。\n",
        "  - 今回は1行目が各列のラベルになっているので特に書いていないが、1行目からデータが書かれている場合は（列ラベルがない場合は）、`header=None`を追記する。もしくは、今回の場合、1行目がヘッダであることを`header=1`と明記してもよい。（index_colは0始まりなのにheaderは1始まりなのは納得いかないと思うが、私も説明できないので納得いかない）"
      ],
      "metadata": {
        "id": "U-_UQd7t1AKO"
      }
    },
    {
      "cell_type": "markdown",
      "source": [
        "- [参考] 自分でもっといろいろ試してやろうと思っている人向けの解説\n",
        "  - 今回、データを統計ライブラリのpandasを使って読み込んでいます。\n",
        "  - これはデータを表全体として読み込んでいるからです。\n",
        "  - 普通、Pythonで何か処理をしようとすると、ファイルを1行ずつ読み込んで処理することが多い気もしますが、その際は以下のように書いたりします。"
      ],
      "metadata": {
        "id": "PE5FGukdxWBn"
      }
    },
    {
      "cell_type": "code",
      "execution_count": 10,
      "metadata": {
        "id": "t08eAkfZR8da"
      },
      "outputs": [],
      "source": [
        "# このブロックは参考までの紹介なので実行しなくていい\n",
        "import csv\n",
        "\n",
        "file = open('Bsubtilis_exp.for_lec.0613.txt')\n",
        "reader = csv.reader(file)\n",
        "\n",
        "for row in reader:\n",
        "  comment = \"この行を書き換えて何か処理したいことを書く\""
      ]
    },
    {
      "cell_type": "markdown",
      "source": [
        "### 改めてデータを眺めてみる"
      ],
      "metadata": {
        "id": "3JIRzsYnLAIg"
      }
    },
    {
      "cell_type": "code",
      "source": [
        "df.head(3)"
      ],
      "metadata": {
        "colab": {
          "base_uri": "https://localhost:8080/",
          "height": 360
        },
        "id": "Zt6QM3wJLDwL",
        "outputId": "6b08e646-84e9-41aa-d72f-0df2be2d908c"
      },
      "execution_count": 37,
      "outputs": [
        {
          "output_type": "execute_result",
          "data": {
            "text/plain": [
              "           Protein_ID                                         Product  \\\n",
              "Feature_ID                                                              \n",
              "gene0          P05648  chromosomal replication initiator protein DnaA   \n",
              "gene1          P05649                 DNA polymerase III subunit beta   \n",
              "gene2          P05650                            hypothetical protein   \n",
              "\n",
              "               liquid_1    liquid_2      bean_1      bean_2      agar_1  \\\n",
              "Feature_ID                                                                \n",
              "gene0        834.102799  576.594721  312.945767  295.518477  266.386503   \n",
              "gene1       1055.409089  639.465591  323.554225  258.584583  242.993284   \n",
              "gene2        183.757418  366.561974  166.054752  120.104462  169.660218   \n",
              "\n",
              "                agar_2  log_liquid1  \n",
              "Feature_ID                           \n",
              "gene0       403.542355     9.704081  \n",
              "gene1       489.855972    10.043587  \n",
              "gene2       169.440308     7.521659  "
            ],
            "text/html": [
              "\n",
              "  <div id=\"df-e2e40e41-937d-48d1-82a2-bd9b3d15c7bd\">\n",
              "    <div class=\"colab-df-container\">\n",
              "      <div>\n",
              "<style scoped>\n",
              "    .dataframe tbody tr th:only-of-type {\n",
              "        vertical-align: middle;\n",
              "    }\n",
              "\n",
              "    .dataframe tbody tr th {\n",
              "        vertical-align: top;\n",
              "    }\n",
              "\n",
              "    .dataframe thead th {\n",
              "        text-align: right;\n",
              "    }\n",
              "</style>\n",
              "<table border=\"1\" class=\"dataframe\">\n",
              "  <thead>\n",
              "    <tr style=\"text-align: right;\">\n",
              "      <th></th>\n",
              "      <th>Protein_ID</th>\n",
              "      <th>Product</th>\n",
              "      <th>liquid_1</th>\n",
              "      <th>liquid_2</th>\n",
              "      <th>bean_1</th>\n",
              "      <th>bean_2</th>\n",
              "      <th>agar_1</th>\n",
              "      <th>agar_2</th>\n",
              "      <th>log_liquid1</th>\n",
              "    </tr>\n",
              "    <tr>\n",
              "      <th>Feature_ID</th>\n",
              "      <th></th>\n",
              "      <th></th>\n",
              "      <th></th>\n",
              "      <th></th>\n",
              "      <th></th>\n",
              "      <th></th>\n",
              "      <th></th>\n",
              "      <th></th>\n",
              "      <th></th>\n",
              "    </tr>\n",
              "  </thead>\n",
              "  <tbody>\n",
              "    <tr>\n",
              "      <th>gene0</th>\n",
              "      <td>P05648</td>\n",
              "      <td>chromosomal replication initiator protein DnaA</td>\n",
              "      <td>834.102799</td>\n",
              "      <td>576.594721</td>\n",
              "      <td>312.945767</td>\n",
              "      <td>295.518477</td>\n",
              "      <td>266.386503</td>\n",
              "      <td>403.542355</td>\n",
              "      <td>9.704081</td>\n",
              "    </tr>\n",
              "    <tr>\n",
              "      <th>gene1</th>\n",
              "      <td>P05649</td>\n",
              "      <td>DNA polymerase III subunit beta</td>\n",
              "      <td>1055.409089</td>\n",
              "      <td>639.465591</td>\n",
              "      <td>323.554225</td>\n",
              "      <td>258.584583</td>\n",
              "      <td>242.993284</td>\n",
              "      <td>489.855972</td>\n",
              "      <td>10.043587</td>\n",
              "    </tr>\n",
              "    <tr>\n",
              "      <th>gene2</th>\n",
              "      <td>P05650</td>\n",
              "      <td>hypothetical protein</td>\n",
              "      <td>183.757418</td>\n",
              "      <td>366.561974</td>\n",
              "      <td>166.054752</td>\n",
              "      <td>120.104462</td>\n",
              "      <td>169.660218</td>\n",
              "      <td>169.440308</td>\n",
              "      <td>7.521659</td>\n",
              "    </tr>\n",
              "  </tbody>\n",
              "</table>\n",
              "</div>\n",
              "      <button class=\"colab-df-convert\" onclick=\"convertToInteractive('df-e2e40e41-937d-48d1-82a2-bd9b3d15c7bd')\"\n",
              "              title=\"Convert this dataframe to an interactive table.\"\n",
              "              style=\"display:none;\">\n",
              "        \n",
              "  <svg xmlns=\"http://www.w3.org/2000/svg\" height=\"24px\"viewBox=\"0 0 24 24\"\n",
              "       width=\"24px\">\n",
              "    <path d=\"M0 0h24v24H0V0z\" fill=\"none\"/>\n",
              "    <path d=\"M18.56 5.44l.94 2.06.94-2.06 2.06-.94-2.06-.94-.94-2.06-.94 2.06-2.06.94zm-11 1L8.5 8.5l.94-2.06 2.06-.94-2.06-.94L8.5 2.5l-.94 2.06-2.06.94zm10 10l.94 2.06.94-2.06 2.06-.94-2.06-.94-.94-2.06-.94 2.06-2.06.94z\"/><path d=\"M17.41 7.96l-1.37-1.37c-.4-.4-.92-.59-1.43-.59-.52 0-1.04.2-1.43.59L10.3 9.45l-7.72 7.72c-.78.78-.78 2.05 0 2.83L4 21.41c.39.39.9.59 1.41.59.51 0 1.02-.2 1.41-.59l7.78-7.78 2.81-2.81c.8-.78.8-2.07 0-2.86zM5.41 20L4 18.59l7.72-7.72 1.47 1.35L5.41 20z\"/>\n",
              "  </svg>\n",
              "      </button>\n",
              "      \n",
              "  <style>\n",
              "    .colab-df-container {\n",
              "      display:flex;\n",
              "      flex-wrap:wrap;\n",
              "      gap: 12px;\n",
              "    }\n",
              "\n",
              "    .colab-df-convert {\n",
              "      background-color: #E8F0FE;\n",
              "      border: none;\n",
              "      border-radius: 50%;\n",
              "      cursor: pointer;\n",
              "      display: none;\n",
              "      fill: #1967D2;\n",
              "      height: 32px;\n",
              "      padding: 0 0 0 0;\n",
              "      width: 32px;\n",
              "    }\n",
              "\n",
              "    .colab-df-convert:hover {\n",
              "      background-color: #E2EBFA;\n",
              "      box-shadow: 0px 1px 2px rgba(60, 64, 67, 0.3), 0px 1px 3px 1px rgba(60, 64, 67, 0.15);\n",
              "      fill: #174EA6;\n",
              "    }\n",
              "\n",
              "    [theme=dark] .colab-df-convert {\n",
              "      background-color: #3B4455;\n",
              "      fill: #D2E3FC;\n",
              "    }\n",
              "\n",
              "    [theme=dark] .colab-df-convert:hover {\n",
              "      background-color: #434B5C;\n",
              "      box-shadow: 0px 1px 3px 1px rgba(0, 0, 0, 0.15);\n",
              "      filter: drop-shadow(0px 1px 2px rgba(0, 0, 0, 0.3));\n",
              "      fill: #FFFFFF;\n",
              "    }\n",
              "  </style>\n",
              "\n",
              "      <script>\n",
              "        const buttonEl =\n",
              "          document.querySelector('#df-e2e40e41-937d-48d1-82a2-bd9b3d15c7bd button.colab-df-convert');\n",
              "        buttonEl.style.display =\n",
              "          google.colab.kernel.accessAllowed ? 'block' : 'none';\n",
              "\n",
              "        async function convertToInteractive(key) {\n",
              "          const element = document.querySelector('#df-e2e40e41-937d-48d1-82a2-bd9b3d15c7bd');\n",
              "          const dataTable =\n",
              "            await google.colab.kernel.invokeFunction('convertToInteractive',\n",
              "                                                     [key], {});\n",
              "          if (!dataTable) return;\n",
              "\n",
              "          const docLinkHtml = 'Like what you see? Visit the ' +\n",
              "            '<a target=\"_blank\" href=https://colab.research.google.com/notebooks/data_table.ipynb>data table notebook</a>'\n",
              "            + ' to learn more about interactive tables.';\n",
              "          element.innerHTML = '';\n",
              "          dataTable['output_type'] = 'display_data';\n",
              "          await google.colab.output.renderOutput(dataTable, element);\n",
              "          const docLink = document.createElement('div');\n",
              "          docLink.innerHTML = docLinkHtml;\n",
              "          element.appendChild(docLink);\n",
              "        }\n",
              "      </script>\n",
              "    </div>\n",
              "  </div>\n",
              "  "
            ]
          },
          "metadata": {},
          "execution_count": 37
        }
      ]
    },
    {
      "cell_type": "code",
      "source": [
        "df.tail(3)"
      ],
      "metadata": {
        "colab": {
          "base_uri": "https://localhost:8080/",
          "height": 239
        },
        "id": "yDb7RqT9LXzl",
        "outputId": "6525e4ca-7451-4252-fe78-b0550e317ea6"
      },
      "execution_count": 38,
      "outputs": [
        {
          "output_type": "execute_result",
          "data": {
            "text/plain": [
              "           Protein_ID Product    liquid_1    liquid_2      bean_1      bean_2  \\\n",
              "Feature_ID                                                                      \n",
              "gene4592            -       .   94.045531   97.753577   40.161404   80.716228   \n",
              "gene4593            -       .  208.329307  144.499829  211.327820  288.740042   \n",
              "gene4594            -       .  157.148040   48.753774   54.260414   58.637534   \n",
              "\n",
              "                agar_1      agar_2  log_liquid1  \n",
              "Feature_ID                                       \n",
              "gene4592     61.823857   28.505271     6.555287  \n",
              "gene4593    162.390371  218.765991     7.702722  \n",
              "gene4594     29.467181   36.387123     7.295980  "
            ],
            "text/html": [
              "\n",
              "  <div id=\"df-aae2637e-f472-41cd-b007-c244e617720d\">\n",
              "    <div class=\"colab-df-container\">\n",
              "      <div>\n",
              "<style scoped>\n",
              "    .dataframe tbody tr th:only-of-type {\n",
              "        vertical-align: middle;\n",
              "    }\n",
              "\n",
              "    .dataframe tbody tr th {\n",
              "        vertical-align: top;\n",
              "    }\n",
              "\n",
              "    .dataframe thead th {\n",
              "        text-align: right;\n",
              "    }\n",
              "</style>\n",
              "<table border=\"1\" class=\"dataframe\">\n",
              "  <thead>\n",
              "    <tr style=\"text-align: right;\">\n",
              "      <th></th>\n",
              "      <th>Protein_ID</th>\n",
              "      <th>Product</th>\n",
              "      <th>liquid_1</th>\n",
              "      <th>liquid_2</th>\n",
              "      <th>bean_1</th>\n",
              "      <th>bean_2</th>\n",
              "      <th>agar_1</th>\n",
              "      <th>agar_2</th>\n",
              "      <th>log_liquid1</th>\n",
              "    </tr>\n",
              "    <tr>\n",
              "      <th>Feature_ID</th>\n",
              "      <th></th>\n",
              "      <th></th>\n",
              "      <th></th>\n",
              "      <th></th>\n",
              "      <th></th>\n",
              "      <th></th>\n",
              "      <th></th>\n",
              "      <th></th>\n",
              "      <th></th>\n",
              "    </tr>\n",
              "  </thead>\n",
              "  <tbody>\n",
              "    <tr>\n",
              "      <th>gene4592</th>\n",
              "      <td>-</td>\n",
              "      <td>.</td>\n",
              "      <td>94.045531</td>\n",
              "      <td>97.753577</td>\n",
              "      <td>40.161404</td>\n",
              "      <td>80.716228</td>\n",
              "      <td>61.823857</td>\n",
              "      <td>28.505271</td>\n",
              "      <td>6.555287</td>\n",
              "    </tr>\n",
              "    <tr>\n",
              "      <th>gene4593</th>\n",
              "      <td>-</td>\n",
              "      <td>.</td>\n",
              "      <td>208.329307</td>\n",
              "      <td>144.499829</td>\n",
              "      <td>211.327820</td>\n",
              "      <td>288.740042</td>\n",
              "      <td>162.390371</td>\n",
              "      <td>218.765991</td>\n",
              "      <td>7.702722</td>\n",
              "    </tr>\n",
              "    <tr>\n",
              "      <th>gene4594</th>\n",
              "      <td>-</td>\n",
              "      <td>.</td>\n",
              "      <td>157.148040</td>\n",
              "      <td>48.753774</td>\n",
              "      <td>54.260414</td>\n",
              "      <td>58.637534</td>\n",
              "      <td>29.467181</td>\n",
              "      <td>36.387123</td>\n",
              "      <td>7.295980</td>\n",
              "    </tr>\n",
              "  </tbody>\n",
              "</table>\n",
              "</div>\n",
              "      <button class=\"colab-df-convert\" onclick=\"convertToInteractive('df-aae2637e-f472-41cd-b007-c244e617720d')\"\n",
              "              title=\"Convert this dataframe to an interactive table.\"\n",
              "              style=\"display:none;\">\n",
              "        \n",
              "  <svg xmlns=\"http://www.w3.org/2000/svg\" height=\"24px\"viewBox=\"0 0 24 24\"\n",
              "       width=\"24px\">\n",
              "    <path d=\"M0 0h24v24H0V0z\" fill=\"none\"/>\n",
              "    <path d=\"M18.56 5.44l.94 2.06.94-2.06 2.06-.94-2.06-.94-.94-2.06-.94 2.06-2.06.94zm-11 1L8.5 8.5l.94-2.06 2.06-.94-2.06-.94L8.5 2.5l-.94 2.06-2.06.94zm10 10l.94 2.06.94-2.06 2.06-.94-2.06-.94-.94-2.06-.94 2.06-2.06.94z\"/><path d=\"M17.41 7.96l-1.37-1.37c-.4-.4-.92-.59-1.43-.59-.52 0-1.04.2-1.43.59L10.3 9.45l-7.72 7.72c-.78.78-.78 2.05 0 2.83L4 21.41c.39.39.9.59 1.41.59.51 0 1.02-.2 1.41-.59l7.78-7.78 2.81-2.81c.8-.78.8-2.07 0-2.86zM5.41 20L4 18.59l7.72-7.72 1.47 1.35L5.41 20z\"/>\n",
              "  </svg>\n",
              "      </button>\n",
              "      \n",
              "  <style>\n",
              "    .colab-df-container {\n",
              "      display:flex;\n",
              "      flex-wrap:wrap;\n",
              "      gap: 12px;\n",
              "    }\n",
              "\n",
              "    .colab-df-convert {\n",
              "      background-color: #E8F0FE;\n",
              "      border: none;\n",
              "      border-radius: 50%;\n",
              "      cursor: pointer;\n",
              "      display: none;\n",
              "      fill: #1967D2;\n",
              "      height: 32px;\n",
              "      padding: 0 0 0 0;\n",
              "      width: 32px;\n",
              "    }\n",
              "\n",
              "    .colab-df-convert:hover {\n",
              "      background-color: #E2EBFA;\n",
              "      box-shadow: 0px 1px 2px rgba(60, 64, 67, 0.3), 0px 1px 3px 1px rgba(60, 64, 67, 0.15);\n",
              "      fill: #174EA6;\n",
              "    }\n",
              "\n",
              "    [theme=dark] .colab-df-convert {\n",
              "      background-color: #3B4455;\n",
              "      fill: #D2E3FC;\n",
              "    }\n",
              "\n",
              "    [theme=dark] .colab-df-convert:hover {\n",
              "      background-color: #434B5C;\n",
              "      box-shadow: 0px 1px 3px 1px rgba(0, 0, 0, 0.15);\n",
              "      filter: drop-shadow(0px 1px 2px rgba(0, 0, 0, 0.3));\n",
              "      fill: #FFFFFF;\n",
              "    }\n",
              "  </style>\n",
              "\n",
              "      <script>\n",
              "        const buttonEl =\n",
              "          document.querySelector('#df-aae2637e-f472-41cd-b007-c244e617720d button.colab-df-convert');\n",
              "        buttonEl.style.display =\n",
              "          google.colab.kernel.accessAllowed ? 'block' : 'none';\n",
              "\n",
              "        async function convertToInteractive(key) {\n",
              "          const element = document.querySelector('#df-aae2637e-f472-41cd-b007-c244e617720d');\n",
              "          const dataTable =\n",
              "            await google.colab.kernel.invokeFunction('convertToInteractive',\n",
              "                                                     [key], {});\n",
              "          if (!dataTable) return;\n",
              "\n",
              "          const docLinkHtml = 'Like what you see? Visit the ' +\n",
              "            '<a target=\"_blank\" href=https://colab.research.google.com/notebooks/data_table.ipynb>data table notebook</a>'\n",
              "            + ' to learn more about interactive tables.';\n",
              "          element.innerHTML = '';\n",
              "          dataTable['output_type'] = 'display_data';\n",
              "          await google.colab.output.renderOutput(dataTable, element);\n",
              "          const docLink = document.createElement('div');\n",
              "          docLink.innerHTML = docLinkHtml;\n",
              "          element.appendChild(docLink);\n",
              "        }\n",
              "      </script>\n",
              "    </div>\n",
              "  </div>\n",
              "  "
            ]
          },
          "metadata": {},
          "execution_count": 38
        }
      ]
    },
    {
      "cell_type": "markdown",
      "source": [
        "- 全データ（df）の最初の方と最後の方を3行ずつ表示してみた。\n",
        "- 行方向に見ると（たとえばgene0）、P05648というIDで、「chromosomal replication initiator protein DnaA」という名前の遺伝子で、液体培地で培養した時の遺伝子の発現量が834.1と576.6、茹で大豆の表面で培養した時の遺伝子の発現量が312.9と295.5、寒天培地で（略）となっている。\n",
        "- 列方向に見ると、液体培地で培養した時の実験その1（liquid_1）では、遺伝子gene0の発現量が834.1、遺伝子gene1の発現量が1055.4、（中略）、遺伝子gene4594の発現量が157.1となっている。"
      ],
      "metadata": {
        "id": "rERyrOthLJVC"
      }
    },
    {
      "cell_type": "markdown",
      "source": [
        "### データの分布を、代表する値を計算することで調べてみる\n",
        "- データの列には遺伝子の発現量が数値で入っている\n",
        "- ちらちら眺めると0に近い値から千まで数値があるような\n",
        "- そこで各列のデータの様子を、代表的な値を計算することで概観してみましょう\n",
        "- たとえば平均値は`mean()`というメソッド（命令・関数）で求めることができます"
      ],
      "metadata": {
        "id": "QrgJVKjL7k1t"
      }
    },
    {
      "cell_type": "code",
      "source": [
        "mean_liq1 = df['liquid_1'].mean()\n",
        "print(mean_liq1)"
      ],
      "metadata": {
        "colab": {
          "base_uri": "https://localhost:8080/"
        },
        "id": "OU1rd2ZM9wMP",
        "outputId": "7db022c5-0304-469f-fca4-a33b685c617e"
      },
      "execution_count": 12,
      "outputs": [
        {
          "output_type": "stream",
          "name": "stdout",
          "text": [
            "355.42691136739074\n"
          ]
        }
      ]
    },
    {
      "cell_type": "markdown",
      "source": [
        "- `mean_liq1 = df['liquid_1'].mean()`：データフレーム（＝表）dfのliquid_1列に対してmeanという関数で処理しています。\n",
        "- 他の行も同様に計算できます"
      ],
      "metadata": {
        "id": "bmLtvFbc-blD"
      }
    },
    {
      "cell_type": "code",
      "source": [
        "mean_liq2 = df['liquid_2'].mean()\n",
        "print(mean_liq1)\n",
        "\n",
        "mean_bean1 = df['bean_1'].mean()\n",
        "print(mean_bean1)\n",
        "\n",
        "# 上の記述をコピペしてbean_2についても平均を求めてみましょう"
      ],
      "metadata": {
        "colab": {
          "base_uri": "https://localhost:8080/"
        },
        "id": "YnTjXn3I_D9-",
        "outputId": "070874fd-f38d-4511-f75f-475eb067e356"
      },
      "execution_count": 15,
      "outputs": [
        {
          "output_type": "stream",
          "name": "stdout",
          "text": [
            "355.42691136739074\n",
            "308.3048581878015\n"
          ]
        }
      ]
    },
    {
      "cell_type": "markdown",
      "source": [
        "- とは言いながら、列名を指定しないと、各データの行でよしなに平均値を一発で計算してくれます。。。（エラーが出ますが、これは遺伝子名などの数値以外の列が入っているのに気にせずに処理しているからです）"
      ],
      "metadata": {
        "id": "7xMt5TpSAB5w"
      }
    },
    {
      "cell_type": "code",
      "source": [
        "df.mean()"
      ],
      "metadata": {
        "colab": {
          "base_uri": "https://localhost:8080/"
        },
        "id": "6jhPDerPAMaK",
        "outputId": "8ae6a32f-a4dd-4c51-cac7-6b1e9ac52894"
      },
      "execution_count": 17,
      "outputs": [
        {
          "output_type": "stream",
          "name": "stderr",
          "text": [
            "/usr/local/lib/python3.7/dist-packages/ipykernel_launcher.py:1: FutureWarning: Dropping of nuisance columns in DataFrame reductions (with 'numeric_only=None') is deprecated; in a future version this will raise TypeError.  Select only valid columns before calling the reduction.\n",
            "  \"\"\"Entry point for launching an IPython kernel.\n"
          ]
        },
        {
          "output_type": "execute_result",
          "data": {
            "text/plain": [
              "liquid_1    355.426911\n",
              "liquid_2    342.962154\n",
              "bean_1      308.304858\n",
              "bean_2      313.710360\n",
              "agar_1      338.837129\n",
              "agar_2      326.483328\n",
              "dtype: float64"
            ]
          },
          "metadata": {},
          "execution_count": 17
        }
      ]
    },
    {
      "cell_type": "markdown",
      "source": [
        "同様に、maxやmin、medianメソッドで最大値、最小値、中央値を求められます。"
      ],
      "metadata": {
        "id": "4-FQNzzZ_0Bj"
      }
    },
    {
      "cell_type": "code",
      "source": [
        "df.max()"
      ],
      "metadata": {
        "colab": {
          "base_uri": "https://localhost:8080/"
        },
        "id": "G8vWs4IrBvQc",
        "outputId": "e95bc3ba-94b2-4ed2-d846-9564e0c9d796"
      },
      "execution_count": 19,
      "outputs": [
        {
          "output_type": "execute_result",
          "data": {
            "text/plain": [
              "Protein_ID                                   Q9R9I1\n",
              "Product       zinc-finger domain-containing protein\n",
              "liquid_1                               42367.244782\n",
              "liquid_2                                35498.88546\n",
              "bean_1                                 26693.006155\n",
              "bean_2                                 25145.310682\n",
              "agar_1                                 63896.109507\n",
              "agar_2                                 35186.037619\n",
              "dtype: object"
            ]
          },
          "metadata": {},
          "execution_count": 19
        }
      ]
    },
    {
      "cell_type": "code",
      "source": [
        "df.min()"
      ],
      "metadata": {
        "colab": {
          "base_uri": "https://localhost:8080/"
        },
        "id": "qH4eGihoCEiM",
        "outputId": "2399d586-492a-4975-cce6-f82f26c3c9d7"
      },
      "execution_count": 20,
      "outputs": [
        {
          "output_type": "execute_result",
          "data": {
            "text/plain": [
              "Protein_ID                           -\n",
              "Product       (2Fe-2S)-binding protein\n",
              "liquid_1                      0.109456\n",
              "liquid_2                      0.089984\n",
              "bean_1                        0.079831\n",
              "bean_2                        0.110238\n",
              "agar_1                        0.045831\n",
              "agar_2                        0.057031\n",
              "dtype: object"
            ]
          },
          "metadata": {},
          "execution_count": 20
        }
      ]
    },
    {
      "cell_type": "code",
      "source": [
        "df.median()"
      ],
      "metadata": {
        "colab": {
          "base_uri": "https://localhost:8080/"
        },
        "id": "Og1-3mqdCHiU",
        "outputId": "db400ea1-ed7c-491f-8f07-e31c34ee703d"
      },
      "execution_count": 21,
      "outputs": [
        {
          "output_type": "stream",
          "name": "stderr",
          "text": [
            "/usr/local/lib/python3.7/dist-packages/ipykernel_launcher.py:1: FutureWarning: Dropping of nuisance columns in DataFrame reductions (with 'numeric_only=None') is deprecated; in a future version this will raise TypeError.  Select only valid columns before calling the reduction.\n",
            "  \"\"\"Entry point for launching an IPython kernel.\n"
          ]
        },
        {
          "output_type": "execute_result",
          "data": {
            "text/plain": [
              "liquid_1    46.416311\n",
              "liquid_2    46.061268\n",
              "bean_1      56.646555\n",
              "bean_2      56.325043\n",
              "agar_1      58.935522\n",
              "agar_2      55.874308\n",
              "dtype: float64"
            ]
          },
          "metadata": {},
          "execution_count": 21
        }
      ]
    },
    {
      "cell_type": "markdown",
      "source": [
        "- と、くどくどと計算してきましたが、pandasではこういった代表的な値をまとめて計算してくれるdescribeメソッドがあるのでこれで一撃で表示させることができます。"
      ],
      "metadata": {
        "id": "aiuFqRgN8ZKT"
      }
    },
    {
      "cell_type": "code",
      "source": [
        "print(df.describe())"
      ],
      "metadata": {
        "colab": {
          "base_uri": "https://localhost:8080/"
        },
        "id": "kpoPt5H18Lph",
        "outputId": "6696b242-d0d3-4d45-9a76-11a3276f0b65"
      },
      "execution_count": 11,
      "outputs": [
        {
          "output_type": "stream",
          "name": "stdout",
          "text": [
            "           liquid_1      liquid_2        bean_1        bean_2        agar_1  \\\n",
            "count   4271.000000   4271.000000   4271.000000   4271.000000   4271.000000   \n",
            "mean     355.426911    342.962154    308.304858    313.710360    338.837129   \n",
            "std     1697.713792   1592.614755   1194.984222   1272.863163   1691.736040   \n",
            "min        0.109456      0.089984      0.079831      0.110238      0.045831   \n",
            "25%       10.549396     10.529950     12.284703     12.123286     13.207663   \n",
            "50%       46.416311     46.061268     56.646555     56.325043     58.935522   \n",
            "75%      175.323051    179.308001    173.975579    172.152462    183.723250   \n",
            "max    42367.244782  35498.885460  26693.006155  25145.310682  63896.109507   \n",
            "\n",
            "             agar_2  \n",
            "count   4271.000000  \n",
            "mean     326.483328  \n",
            "std     1353.140943  \n",
            "min        0.057031  \n",
            "25%       12.377552  \n",
            "50%       55.874308  \n",
            "75%      188.914114  \n",
            "max    35186.037619  \n"
          ]
        }
      ]
    },
    {
      "cell_type": "markdown",
      "source": [
        "これを眺めるに（今回、対象にするのはliquidとbeanですが）、どの列もだいたい代表する統計値が同じくらいの値をとっているので、特に処理（＝正規化）せずとも先に進んでよさそう、ということがわかる"
      ],
      "metadata": {
        "id": "PIrO-n9EDAwP"
      }
    },
    {
      "cell_type": "markdown",
      "source": [
        "### データの分布をグラフを描いて直接的に確認してみる\n",
        "- 上では、データについて代表する値を計算することでデータの概観を試みたが、グラフを描くことでもっと直接的にデータの分布を確認することができる。\n",
        "- 今回の場合は、データの範囲を区切って、そこに入るデータの個数をカウントしてグラフにするヒストグラム（histgram、度数分布）を描いてみる。"
      ],
      "metadata": {
        "id": "YkJdxZS9C3fq"
      }
    },
    {
      "cell_type": "code",
      "source": [
        "df.plot.hist(y='liquid_1')"
      ],
      "metadata": {
        "colab": {
          "base_uri": "https://localhost:8080/",
          "height": 282
        },
        "id": "HPHQxx--D1uk",
        "outputId": "bd96f17f-ad15-4cf1-98cd-37809fc7ee68"
      },
      "execution_count": 32,
      "outputs": [
        {
          "output_type": "execute_result",
          "data": {
            "text/plain": [
              "<matplotlib.axes._subplots.AxesSubplot at 0x7f4f17807290>"
            ]
          },
          "metadata": {},
          "execution_count": 32
        },
        {
          "output_type": "display_data",
          "data": {
            "text/plain": [
              "<Figure size 432x288 with 1 Axes>"
            ],
            "image/png": "[encoded data removed]"
          },
          "metadata": {
            "needs_background": "light"
          }
        }
      ]
    },
    {
      "cell_type": "markdown",
      "source": [
        "- なんかえらい0に偏ったグラフなんですが、、、\n",
        "- こうやってある桁だけに偏っていたりする場合は、対数をとるとよい場合もあります。\n",
        "- 後でしっかりやるんですが、ぴろっと対数をとると、以下の感じです"
      ],
      "metadata": {
        "id": "z1oHYpiFIOWW"
      }
    },
    {
      "cell_type": "code",
      "source": [
        "import numpy as np      # ここの行は例によって呪文\n",
        "\n",
        "# liquid_1列について対数をとってもとのdfに1列追加している\n",
        "df['log_liquid1'] = np.log2(df['liquid_1'])\n",
        "\n",
        "# ヒストグラムを描く\n",
        "df.plot.hist(y='log_liquid1', bins=30)     # binsはグラフの本数のイメージ"
      ],
      "metadata": {
        "colab": {
          "base_uri": "https://localhost:8080/",
          "height": 282
        },
        "id": "r5hoq9pbHEHN",
        "outputId": "b14ed8ad-b6c7-41c6-a311-e7c6329245a7"
      },
      "execution_count": 33,
      "outputs": [
        {
          "output_type": "execute_result",
          "data": {
            "text/plain": [
              "<matplotlib.axes._subplots.AxesSubplot at 0x7f4f17192bd0>"
            ]
          },
          "metadata": {},
          "execution_count": 33
        },
        {
          "output_type": "display_data",
          "data": {
            "text/plain": [
              "<Figure size 432x288 with 1 Axes>"
            ],
            "image/png": "[encoded data removed]"
          },
          "metadata": {
            "needs_background": "light"
          }
        }
      ]
    },
    {
      "cell_type": "markdown",
      "source": [
        "遺伝子発現のデータは対数をとると、左右対称のグラフになることが知られています（正規分布という名前でモデル化できます（＝近似的な関数で記述できる））"
      ],
      "metadata": {
        "id": "AXmSYOO5JEIT"
      }
    },
    {
      "cell_type": "markdown",
      "source": [
        "- liquid_1とliquid_2は、同じ実験を2回やって実験誤差を小さくしようしたデータ。なので、liquid_1の値とliquid_2の値は同じなのが理想。\n",
        "- liquid_1とbean_1は実験の条件（この場合は培養条件）が違う。なので、**培養の条件（液体か固体か? 養分の差?）と関連のある遺伝子がその条件だけで増えていることが想像できる。**（なのでliquid_1とbean_1で値が違うものがいるはずだし、それがおもしろい）\n",
        "- というあたりを、散布図（scatter plot）というグラフを描いて確認してみる。"
      ],
      "metadata": {
        "id": "cN68nHRkKfjY"
      }
    },
    {
      "cell_type": "code",
      "source": [
        "df.plot.scatter(x='liquid_1', y='liquid_2')\n",
        "df.plot.scatter(x='liquid_1', y='bean_1')"
      ],
      "metadata": {
        "colab": {
          "base_uri": "https://localhost:8080/",
          "height": 560
        },
        "id": "4RcKEbJSOghG",
        "outputId": "a8c6a350-972b-497a-8bc8-79e60d6743f6"
      },
      "execution_count": 41,
      "outputs": [
        {
          "output_type": "execute_result",
          "data": {
            "text/plain": [
              "<matplotlib.axes._subplots.AxesSubplot at 0x7f4f16f92390>"
            ]
          },
          "metadata": {},
          "execution_count": 41
        },
        {
          "output_type": "display_data",
          "data": {
            "text/plain": [
              "<Figure size 432x288 with 1 Axes>"
            ],
            "image/png": "[encoded data removed]"
          },
          "metadata": {
            "needs_background": "light"
          }
        },
        {
          "output_type": "display_data",
          "data": {
            "text/plain": [
              "<Figure size 432x288 with 1 Axes>"
            ],
            "image/png": "[encoded data removed]"
          },
          "metadata": {
            "needs_background": "light"
          }
        }
      ]
    },
    {
      "cell_type": "markdown",
      "source": [
        "- なんか、0周辺とか特に、liquidどうしだとデータがy=xのグラフに載っていそうだけれども、なんかビミョー。\n",
        "- これも対数をとるか..."
      ],
      "metadata": {
        "id": "r7OZF93pO_un"
      }
    },
    {
      "cell_type": "code",
      "source": [
        "# これは1回呼び出せばよいので今回は不要\n",
        "# import numpy as np\n",
        "# というかいまさらだけれども、# を書くとそれ以降はコメントとして扱われるので処理されない（=人間が読む用として何もしない）\n",
        "\n",
        "df['log_liquid2'] = np.log2(df['liquid_2'])\n",
        "df['log_bean1'] = np.log2(df['bean_1'])    "
      ],
      "metadata": {
        "id": "8h65G6A7PX3P"
      },
      "execution_count": 42,
      "outputs": []
    },
    {
      "cell_type": "code",
      "source": [
        "df.plot.scatter(x='log_liquid1', y='log_liquid2')\n",
        "df.plot.scatter(x='log_liquid1', y='log_bean1')"
      ],
      "metadata": {
        "colab": {
          "base_uri": "https://localhost:8080/",
          "height": 560
        },
        "id": "UNRhuyM5QRsF",
        "outputId": "67f1e6e9-2b9d-4e76-f31f-ba29b56a41db"
      },
      "execution_count": 44,
      "outputs": [
        {
          "output_type": "execute_result",
          "data": {
            "text/plain": [
              "<matplotlib.axes._subplots.AxesSubplot at 0x7f4f16bfd390>"
            ]
          },
          "metadata": {},
          "execution_count": 44
        },
        {
          "output_type": "display_data",
          "data": {
            "text/plain": [
              "<Figure size 432x288 with 1 Axes>"
            ],
            "image/png": "[encoded data removed]"
          },
          "metadata": {
            "needs_background": "light"
          }
        },
        {
          "output_type": "display_data",
          "data": {
            "text/plain": [
              "<Figure size 432x288 with 1 Axes>"
            ],
            "image/png": "[encoded data removed]"
          },
          "metadata": {
            "needs_background": "light"
          }
        }
      ]
    },
    {
      "cell_type": "markdown",
      "source": [
        "- やはり実験条件が違うと遺伝子の発現が違う感じがする。\n",
        "- liquid_1 vs bean_1で（実際は対数をとっているけれども）\n",
        "  - グラフの右下寄りに出ている点（データ）：liquidの発現量は大きいが、beanの発現量は小さい＝液体中で生きるのに必要な遺伝子 or 茹で大豆の表面で生きるのにいらない遺伝子\n",
        "  - グラフの左上寄りに出ている点：liquidの発現量は小さいが、beanの発現量は大きい＝液体中で生きるのにいらない遺伝子 or 茹で大豆の表面で生きるのに必要な遺伝子\n",
        "  - y=xの（心の目で見える）グラフ近辺にある点：液体も茹で大豆の表面も、培養条件と発現量（遺伝子の必要度）に関係のない遺伝子"
      ],
      "metadata": {
        "id": "rRnNp-4dQmGn"
      }
    },
    {
      "cell_type": "markdown",
      "source": [
        "- では、実際に液体や茹で大豆の表面での生育と関係の深そうな遺伝子を調べてみて、どういう機能を持っているか、確認してみましょう。\n",
        "- 今回は茹で大豆の表面で遺伝子発現が大きいデータ（グラフで言うと左上の方）の遺伝子について注目してみます。"
      ],
      "metadata": {
        "id": "0YQUZzwiSHnK"
      }
    }
  ]
}
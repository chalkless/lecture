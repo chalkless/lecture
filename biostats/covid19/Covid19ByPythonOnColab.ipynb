{
  "nbformat": 4,
  "nbformat_minor": 0,
  "metadata": {
    "colab": {
      "provenance": []
    },
    "kernelspec": {
      "name": "python3",
      "display_name": "Python 3"
    },
    "language_info": {
      "name": "python"
    }
  },
  "cells": [
    {
      "cell_type": "markdown",
      "source": [
        "# Python on Colabで可視化する新型コロナデータ"
      ],
      "metadata": {
        "id": "Aa9v4DsRBeRM"
      }
    },
    {
      "cell_type": "code",
      "execution_count": null,
      "metadata": {
        "id": "42WIHmmYBGKZ"
      },
      "outputs": [],
      "source": [
        "from google.colab import drive\n",
        "drive.mount('/content/drive')"
      ]
    },
    {
      "cell_type": "code",
      "source": [
        "import pandas as pd\n",
        "df = pd.read_csv('/content/drive/MyDrive/nhk_news_covid19_prefectures_daily_data.csv')"
      ],
      "metadata": {
        "id": "Y8rbgcBuEpj6"
      },
      "execution_count": null,
      "outputs": []
    },
    {
      "cell_type": "code",
      "source": [
        "!pip install japanize-matplotlib\n",
        "import japanize_matplotlib"
      ],
      "metadata": {
        "id": "YcTW7e8308Le"
      },
      "execution_count": null,
      "outputs": []
    },
    {
      "cell_type": "code",
      "source": [
        "df.head() #最初の5行を表示"
      ],
      "metadata": {
        "id": "21G4z5s6FGl-"
      },
      "execution_count": null,
      "outputs": []
    },
    {
      "cell_type": "code",
      "source": [
        "df.tail()  #末尾5行を表示"
      ],
      "metadata": {
        "id": "hKlLJjp6FICK"
      },
      "execution_count": null,
      "outputs": []
    },
    {
      "cell_type": "code",
      "source": [
        "df_date = df[df['日付'] == \"2022/6/13\"]\n",
        "df_date.head()"
      ],
      "metadata": {
        "id": "hTGCZemlxFXH"
      },
      "execution_count": null,
      "outputs": []
    },
    {
      "cell_type": "code",
      "source": [
        "df_date.plot.bar(x=\"都道府県名\", y={\"各地の感染者数_1日ごとの発表数\"})"
      ],
      "metadata": {
        "id": "nJbisRbz2l9q"
      },
      "execution_count": null,
      "outputs": []
    },
    {
      "cell_type": "code",
      "source": [
        "df_date_sorted = df_date.sort_values(by='各地の感染者数_1日ごとの発表数', ascending=False)\n",
        "df_date_sorted.head()"
      ],
      "metadata": {
        "id": "O9yAawoZx3ng"
      },
      "execution_count": null,
      "outputs": []
    },
    {
      "cell_type": "code",
      "source": [
        "df_date_sorted.plot.bar(x=\"都道府県名\", y={\"各地の感染者数_1日ごとの発表数\"})"
      ],
      "metadata": {
        "id": "ogOnZqc7z4bp"
      },
      "execution_count": null,
      "outputs": []
    },
    {
      "cell_type": "code",
      "source": [
        "import matplotlib.pyplot as pltpie\n",
        "\n",
        "pltpie.pie(df_date.各地の感染者数_1日ごとの発表数, labels=df_date.都道府県名)"
      ],
      "metadata": {
        "id": "QP5U4D6K3MdZ"
      },
      "execution_count": null,
      "outputs": []
    },
    {
      "cell_type": "code",
      "source": [
        "!pip install japanmap\n",
        "from japanmap import picture\n",
        "import matplotlib.pyplot as plt\n",
        "\n",
        "cmap = plt.get_cmap('Reds')\n",
        "\n",
        "df_map = df_date[0:47].set_index('都道府県名')\n",
        "\n",
        "norm = plt.Normalize(vmin=df_date.各地の感染者数_1日ごとの発表数.min(), vmax=df_date.各地の感染者数_1日ごとの発表数.max())\n",
        "fcol = lambda x: '#' + bytes(cmap(norm(x), bytes=True)[:3]).hex()\n",
        "plt.colorbar(plt.cm.ScalarMappable(norm, cmap))\n",
        "plt.imshow(picture(df_map.各地の感染者数_1日ごとの発表数.apply(fcol)));"
      ],
      "metadata": {
        "id": "M4tF10Zj3mVV"
      },
      "execution_count": null,
      "outputs": []
    },
    {
      "cell_type": "code",
      "source": [
        "df_pref = df[df['都道府県名'] == \"東京都\"]\n",
        "df_pref.head()"
      ],
      "metadata": {
        "id": "2XT0p4bzwXoz"
      },
      "execution_count": null,
      "outputs": []
    },
    {
      "cell_type": "code",
      "source": [
        "import matplotlib.pyplot as plttrend\n",
        "\n",
        "# figure(num=None, figsize=(10, 6))\n",
        "plttrend.rcParams['figure.figsize'] = (10, 8)\n",
        "label = df_pref.日付\n",
        "data_trend = df_pref.各地の感染者数_1日ごとの発表数\n",
        "plttrend.plot(label, data_trend)\n",
        "plttrend.xticks(fontsize = 8)\n",
        "plttrend.xticks(rotation=45)"
      ],
      "metadata": {
        "id": "hIX_Ohsl_H2g"
      },
      "execution_count": null,
      "outputs": []
    }
  ]
}
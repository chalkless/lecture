{
  "nbformat": 4,
  "nbformat_minor": 0,
  "metadata": {
    "colab": {
      "name": "parseNuc.ipynb",
      "provenance": []
    },
    "kernelspec": {
      "name": "python3",
      "display_name": "Python 3"
    },
    "language_info": {
      "name": "python"
    }
  },
  "cells": [
    {
      "cell_type": "code",
      "metadata": {
        "id": "7-GhgK5B4UDl"
      },
      "source": [
        "seq=\"CTGCTACATCCAGAACTGCCCCCTGGGAGG\""
      ],
      "execution_count": 2,
      "outputs": []
    },
    {
      "cell_type": "code",
      "metadata": {
        "colab": {
          "base_uri": "https://localhost:8080/"
        },
        "id": "MR9IDWFb6sgY",
        "outputId": "132ca21b-89a0-4eb9-e621-d2b28a6cbc40"
      },
      "source": [
        "rev=seq.translate(str.maketrans({'G': 'C', 'A': 'T', 'T': 'A', 'C': 'G'}))\n",
        "print(\"5'-\"+seq+\"-3'\")\n",
        "print(\"3'-\"+rev+\"-5'\")"
      ],
      "execution_count": 11,
      "outputs": [
        {
          "output_type": "stream",
          "text": [
            "5'-CTGCTACATCCAGAACTGCCCCCTGGGAGG-3'\n",
            "3'-GACGATGTAGGTCTTGACGGGGGACCCTCC-5'\n"
          ],
          "name": "stdout"
        }
      ]
    }
  ]
}
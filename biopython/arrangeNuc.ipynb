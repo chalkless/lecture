{
  "nbformat": 4,
  "nbformat_minor": 0,
  "metadata": {
    "colab": {
      "provenance": []
    },
    "kernelspec": {
      "name": "python3",
      "display_name": "Python 3"
    },
    "language_info": {
      "name": "python"
    }
  },
  "cells": [
    {
      "cell_type": "markdown",
      "metadata": {
        "id": "Y2H_HEfYpdXE"
      },
      "source": [
        "# Google Colab でバイオインフォマティクス（導入編）\n",
        "だいたい2000年くらいにいろいろな生物のゲノムが決定されて、その出てきたDNA配列を処理するのにバイオインフォマティクスは発展してきました。\n",
        "ここではそういうDNAやアミノ酸の配列をどうやって処理するかについて、少しだけ紹介します。\n",
        "DNAは物質ですし、その配列を決めるのは化学や生物の領域なのですが、読み取ったデータは文字列なので情報学的に扱えます。"
      ]
    },
    {
      "cell_type": "markdown",
      "metadata": {
        "id": "eyGSkfQSqOjw"
      },
      "source": [
        "## 相補鎖配列を得る\n",
        "DNAは、AとT、CとGがペアになっていて、2本の鎖が互いに水素結合をして2本鎖になっています。\n",
        "その相方の配列のことを相補鎖といいます。"
      ]
    },
    {
      "cell_type": "markdown",
      "metadata": {
        "id": "GeyPCp-JrBst"
      },
      "source": [
        "今回、元の塩基配列は`CTGCTACATCCAGAACTGCCCCCTGGGAGG`です。\n",
        "`seq`という変数に代入。"
      ]
    },
    {
      "cell_type": "code",
      "metadata": {
        "id": "7-GhgK5B4UDl"
      },
      "source": [
        "seq=\"CTGCTACATCCAGAACTGCCCCCTGGGAGG\""
      ],
      "execution_count": 1,
      "outputs": []
    },
    {
      "cell_type": "markdown",
      "metadata": {
        "id": "WAUvjfl1rK2T"
      },
      "source": [
        "これを、相方になるように文字列を変換します。"
      ]
    },
    {
      "cell_type": "code",
      "metadata": {
        "colab": {
          "base_uri": "https://localhost:8080/"
        },
        "id": "MR9IDWFb6sgY",
        "outputId": "e8a35818-b00d-4682-c956-a9fa4f522ef3"
      },
      "source": [
        "rev=seq.translate(str.maketrans('GATC', 'CTAG'))\n",
        "print(rev)"
      ],
      "execution_count": 2,
      "outputs": [
        {
          "output_type": "stream",
          "name": "stdout",
          "text": [
            "GACGATGTAGGTCTTGACGGGGGACCCTCC\n"
          ]
        }
      ]
    },
    {
      "cell_type": "markdown",
      "metadata": {
        "id": "q_doC_qjre0l"
      },
      "source": [
        "これでできあがり**ではありません**。\n",
        "元の配列と一緒に表示してみると"
      ]
    },
    {
      "cell_type": "code",
      "metadata": {
        "colab": {
          "base_uri": "https://localhost:8080/"
        },
        "id": "YvQMXNTTrS0d",
        "outputId": "c1f52a6c-029c-40a7-bf18-b150e68e16e0"
      },
      "source": [
        "print(\"5'-\"+seq+\"-3'\")\n",
        "print(\"3'-\"+rev+\"-5'\")"
      ],
      "execution_count": 3,
      "outputs": [
        {
          "output_type": "stream",
          "name": "stdout",
          "text": [
            "5'-CTGCTACATCCAGAACTGCCCCCTGGGAGG-3'\n",
            "3'-GACGATGTAGGTCTTGACGGGGGACCCTCC-5'\n"
          ]
        }
      ]
    },
    {
      "cell_type": "markdown",
      "metadata": {
        "id": "c5e-kz7ErvSk"
      },
      "source": [
        "ちゃんとあっているじゃないかー、という感じもしますが、DNAの配列は特に注記しないと5'を左に書く習わしがあるので、左右を反転しなければなりません。（※　注記は3'、5'を明示するという意味だと思ってください）\n",
        "なので"
      ]
    },
    {
      "cell_type": "code",
      "metadata": {
        "colab": {
          "base_uri": "https://localhost:8080/"
        },
        "id": "toykzf6HsKgg",
        "outputId": "f3038154-7ca2-48be-9c8d-8405bd206106"
      },
      "source": [
        "comp = rev[::-1]\n",
        "print(comp)"
      ],
      "execution_count": 4,
      "outputs": [
        {
          "output_type": "stream",
          "name": "stdout",
          "text": [
            "CCTCCCAGGGGGCAGTTCTGGATGTAGCAG\n"
          ]
        }
      ]
    },
    {
      "cell_type": "markdown",
      "metadata": {
        "id": "PmB3YwO3sjzX"
      },
      "source": [
        "ということで、相補鎖の配列は`CCTCCCAGGGGGCAGTTCTGGATGTAGCAG`になります。"
      ]
    },
    {
      "cell_type": "markdown",
      "source": [
        "ここまでは少し丁寧に書いてますが、1行でまとめて書くこともできます。"
      ],
      "metadata": {
        "id": "dlbJfzJrNOlT"
      }
    },
    {
      "cell_type": "code",
      "source": [
        "print(seq.translate(str.maketrans('GATC', 'CTAG'))[::-1])"
      ],
      "metadata": {
        "colab": {
          "base_uri": "https://localhost:8080/"
        },
        "id": "9qzt7ZCANT5s",
        "outputId": "46454534-562c-401b-a2f4-148649239c31"
      },
      "execution_count": 9,
      "outputs": [
        {
          "output_type": "stream",
          "name": "stdout",
          "text": [
            "CCTCCCAGGGGGCAGTTCTGGATGTAGCAG\n"
          ]
        }
      ]
    },
    {
      "cell_type": "markdown",
      "source": [
        "\n",
        "\n",
        "---\n",
        "\n"
      ],
      "metadata": {
        "id": "vwzDQXsxPMNK"
      }
    },
    {
      "cell_type": "markdown",
      "metadata": {
        "id": "Nxv_3_ovvqk-"
      },
      "source": [
        "このようなバイオインフォマティクス用のプログラムを集めたBioPythonというのもあります。Google Colabにはインストールされていないのでまずはインストール"
      ]
    },
    {
      "cell_type": "code",
      "metadata": {
        "colab": {
          "base_uri": "https://localhost:8080/"
        },
        "id": "48rYWHiLug2_",
        "outputId": "81537136-3a14-4817-cb14-dab389df6bfb"
      },
      "source": [
        "!pip install biopython"
      ],
      "execution_count": 10,
      "outputs": [
        {
          "output_type": "stream",
          "name": "stdout",
          "text": [
            "Looking in indexes: https://pypi.org/simple, https://us-python.pkg.dev/colab-wheels/public/simple/\n",
            "Collecting biopython\n",
            "  Downloading biopython-1.81-cp310-cp310-manylinux_2_17_x86_64.manylinux2014_x86_64.whl (3.1 MB)\n",
            "\u001b[2K     \u001b[90m━━━━━━━━━━━━━━━━━━━━━━━━━━━━━━━━━━━━━━━━\u001b[0m \u001b[32m3.1/3.1 MB\u001b[0m \u001b[31m58.7 MB/s\u001b[0m eta \u001b[36m0:00:00\u001b[0m\n",
            "\u001b[?25hRequirement already satisfied: numpy in /usr/local/lib/python3.10/dist-packages (from biopython) (1.22.4)\n",
            "Installing collected packages: biopython\n",
            "Successfully installed biopython-1.81\n"
          ]
        }
      ]
    },
    {
      "cell_type": "markdown",
      "metadata": {
        "id": "CAu_tPG_vzxV"
      },
      "source": [
        "BioPythonで相補鎖配列を取得する例です（がんばればもっと短く書けます）"
      ]
    },
    {
      "cell_type": "code",
      "metadata": {
        "colab": {
          "base_uri": "https://localhost:8080/"
        },
        "id": "rSoHbo7BuGNp",
        "outputId": "fe1302cf-5b96-4e60-ed80-f5b632f63c52"
      },
      "source": [
        "from Bio.Seq import Seq\n",
        "seq=\"CTGCTACATCCAGAACTGCCCCCTGGGAGG\"    # さっき定義したが、コピペしやすいようにもう一度 書いておく\n",
        "seq_f = Seq(seq)                                 # BioPython用に（オブジェクトとして）格納\n",
        "seq_r = seq_f.reverse_complement()             #　相補鎖に変換\n",
        "print(str(seq_r))                                  #　文字列として出力"
      ],
      "execution_count": 11,
      "outputs": [
        {
          "output_type": "stream",
          "name": "stdout",
          "text": [
            "CCTCCCAGGGGGCAGTTCTGGATGTAGCAG\n"
          ]
        }
      ]
    },
    {
      "cell_type": "code",
      "source": [
        "# がんばって短く書いた例（3行目から）\n",
        "\n",
        "print(str(Seq(seq).reverse_complement()))"
      ],
      "metadata": {
        "colab": {
          "base_uri": "https://localhost:8080/"
        },
        "id": "TWdal6GYOLiH",
        "outputId": "c397c263-6451-4458-e08c-c9006eac8b0f"
      },
      "execution_count": 13,
      "outputs": [
        {
          "output_type": "stream",
          "name": "stdout",
          "text": [
            "CCTCCCAGGGGGCAGTTCTGGATGTAGCAG\n"
          ]
        }
      ]
    },
    {
      "cell_type": "markdown",
      "metadata": {
        "id": "uKhTxDFEwIQS"
      },
      "source": [
        "## 翻訳：DNA→アミノ酸（タンパク質）配列への変換\n",
        "DNAに生命情報が書かれている、などとよく言われますが、DNA→（転写）→mRNA→（翻訳）→（アミノ酸→）タンパク質の処理が生物内で行われて、タンパク質が実際の生物活動を支えています。\n",
        "翻訳ですが、DNA3塩基が1アミノ酸に対応しています。アミノ酸は20種類あって、各々、1文字表記があるので、AUG　→　M（AUGの配列がメチオニンに対応）などと64通り（4×4×4）書いてもいいのですが、めんどくさいので、これはBioPythonで。"
      ]
    },
    {
      "cell_type": "markdown",
      "metadata": {
        "id": "Su86mMN_z2Aa"
      },
      "source": [
        "シンプルバージョンをまずは"
      ]
    },
    {
      "cell_type": "code",
      "metadata": {
        "colab": {
          "base_uri": "https://localhost:8080/"
        },
        "id": "ZQ7c1TOWzQjU",
        "outputId": "ca3b7888-6be6-42ea-c052-92c3912634f6"
      },
      "source": [
        "seq_aa = seq_f.translate()\n",
        "print(str(seq_aa))"
      ],
      "execution_count": null,
      "outputs": [
        {
          "output_type": "stream",
          "text": [
            "LLHPELPPGR\n"
          ],
          "name": "stdout"
        }
      ]
    },
    {
      "cell_type": "markdown",
      "metadata": {
        "id": "aMdlnYC9z5Dq"
      },
      "source": [
        "元の配列は`CTGCTACATCCAGAACTGCCCCCTGGGAGG`ですが、\n",
        "\n",
        "\n",
        "*  CTG　CTA　CAT　...\n",
        "*  TGC　TAC　ATC　...\n",
        "*  GCT ACA TCC ...\n",
        "\n",
        "そして相補鎖の\n",
        "\n",
        "* CCT CCC AGG ...\n",
        "* CTC CAG GGG ...\n",
        "* TCC CAG GGG ...\n",
        "\n",
        "の6パターンが考えられます。なので、本来は次のように6フレーム分考えます。（実際はスタートのMから終止コドンの*までの長さが一番長いものを採用したりします）\n",
        "\n",
        "\n"
      ]
    },
    {
      "cell_type": "code",
      "metadata": {
        "colab": {
          "base_uri": "https://localhost:8080/"
        },
        "id": "ftMmhNSI05CK",
        "outputId": "1fbcb338-e28c-40f8-cb16-f859fcc66a01"
      },
      "source": [
        "seq_f_aa1 = seq_f[0:].translate()\n",
        "seq_f_aa2 = seq_f[1:].translate()\n",
        "seq_f_aa3 = seq_f[2:].translate()\n",
        "seq_r_aa1 = seq_r[0:].translate()            # ... = seq_f.reverse_complement()[0:].translate() というように書いてもよい\n",
        "seq_r_aa2 = seq_r[1:].translate()\n",
        "seq_r_aa3 = seq_r[2:].translate()\n",
        "\n",
        "print(str(seq_f_aa1))\n",
        "print(str(seq_f_aa2))\n",
        "print(str(seq_f_aa3))\n",
        "print(str(seq_r_aa1))\n",
        "print(str(seq_r_aa2))\n",
        "print(str(seq_r_aa3))"
      ],
      "execution_count": 14,
      "outputs": [
        {
          "output_type": "stream",
          "name": "stdout",
          "text": [
            "LLHPELPPGR\n",
            "CYIQNCPLG\n",
            "ATSRTAPWE\n",
            "PPRGQFWM*Q\n",
            "LPGGSSGCS\n",
            "SQGAVLDVA\n"
          ]
        },
        {
          "output_type": "stream",
          "name": "stderr",
          "text": [
            "/usr/local/lib/python3.10/dist-packages/Bio/Seq.py:2804: BiopythonWarning: Partial codon, len(sequence) not a multiple of three. Explicitly trim the sequence or add trailing N before translation. This may become an error in future.\n",
            "  warnings.warn(\n"
          ]
        }
      ]
    },
    {
      "cell_type": "markdown",
      "source": [
        "今回の場合、オキシトシンというホルモンの配列を取ってきているので、\n",
        "\n",
        "```\n",
        "CYIQNCPLG\n",
        "```\n",
        "が正解です。\n",
        "\n",
        "参照：[Wikipedia・オキシトシン](https://ja.wikipedia.org/wiki/%E3%82%AA%E3%82%AD%E3%82%B7%E3%83%88%E3%82%B7%E3%83%B3)\n"
      ],
      "metadata": {
        "id": "HvPXpfZlOq-m"
      }
    }
  ]
}